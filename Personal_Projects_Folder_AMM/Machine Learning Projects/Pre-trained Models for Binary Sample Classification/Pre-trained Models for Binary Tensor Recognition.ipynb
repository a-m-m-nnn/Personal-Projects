{
 "cells": [
  {
   "cell_type": "markdown",
   "metadata": {
    "id": "hvdA-bcEEdP6"
   },
   "source": [
    "## Pre-trained Models for Binary Sample Recognition with PyTorch and ResNet-18\n",
    "##### - AMM '24\n"
   ]
  },
  {
   "cell_type": "markdown",
   "metadata": {
    "id": "226QZq5PEdP7"
   },
   "source": [
    "### Introduction\n"
    "n\"
    "In this project, we will use a pre-trained model with transfer learning to classify between negative and positive jpeg samples, and identify which samples we are misclassifying; these samples will be converted to tensors, allowing for many applications of our model in classification use cases. We will be using transfer learning with a pre-trained ResNet-18 model.\n",
    "\n",
    "## Project Overview\n",
    "\n",
    "A hypothetical data insights company currently lacks an efficient and scalable method to automate the identification of positive and negative tensors in large datasets. The manual inspection of jpeg data is not only resource-intensive but also error-prone, leading to inefficiencies in downstream tasks such as data analysis or machine learning model training. The goal of this project is to leverage machine learning and computer vision to automate the classification of positive and negative samples, streamlining data processing and improving the accuracy of subsequent workflows. The project employs a ResNet-18 model, fine-tuned to classify negative or positive tensors, making it a valuable tool for applications such as anomaly detection, data quality control, and real-time monitoring in industries relying on high-dimensional data.\n",
    "\n",
    "\n",
    "# Project Objectives\n",
    "We will:\n",
    "<ul>\n",
    "<li> Import our data and set up an appropriate directory</li>\n",
    "<li> Build a model using transfer learning and ResNet-18</li>\n",
    "<li> Change the output layer</li>\n",
    "<li> Train the model</li>\n",
    "<li>  Identify  several  misclassified samples</li>\n",
    " </ul>\n"
   ]
  },
  {
   "cell_type": "markdown",
   "metadata": {
    "id": "pDiNy9V1EdP8"
   },
   "source": [
    "<h2 id=\"download_data\">Download Data</h2>\n"
   ]
  },
  {
   "cell_type": "markdown",
   "metadata": {
    "id": "pwSgCAs_EdP8"
   },
   "source": [
    "#### We will download the dataset and unzip the files in our data directory, here we have done so locally:\n"
   ]
  },
  {
   "cell_type": "code",
   "execution_count": null,
   "metadata": {
    "colab": {
     "base_uri": "https://localhost:8080/"
    },
    "id": "OBjHFaftEdP8",
    "outputId": "caeab472-ea6b-4acd-e9f5-8f3238bb9d78"
   },
   "outputs": [
    {
     "name": "stdout",
     "output_type": "stream",
     "text": [
      "Downloaded: Positive_tensors.zip\n"
     ]
    }
   ],
   "source": [
    "import requests\n",
    "\n",
    "url = \"https://s3-api.us-geo.objectstorage.softlayer.net/cf-courses-data/CognitiveClass/DL0321EN/data/images/Positive_tensors.zip\"\n",
    "filename = \"Positive_tensors.zip\"\n",
    "\n",
    "response = requests.get(url, stream=True)\n",
    "if response.status_code == 200:\n",
    "    with open(filename, \"wb\") as f:\n",
    "        f.write(response.content)\n",
    "    print(f\"Downloaded: {filename}\")\n",
    "else:\n",
    "    print(\"Failed to download file.\")"
   ]
  },
  {
   "cell_type": "code",
   "execution_count": null,
   "metadata": {
    "colab": {
     "base_uri": "https://localhost:8080/"
    },
    "id": "pxUmIo9dEdP9",
    "outputId": "d56a60ae-3d41-4556-d769-a409e59be71c"
   },
   "outputs": [
    {
     "name": "stdout",
     "output_type": "stream",
     "text": [
      "Extracted Positive_tensors.zip to ./\n"
     ]
    }
   ],
   "source": [
    "import zipfile\n",
    "\n",
    "zip_file = \"Positive_tensors.zip\"  # Adjust if the zip file is in a different directory\n",
    "extract_to = \"./\"  # Specify the directory to extract files to\n",
    "\n",
    "# Unzipping the file\n",
    "with zipfile.ZipFile(zip_file, 'r') as zip_ref:\n",
    "    zip_ref.extractall(extract_to)\n",
    "\n",
    "print(f\"Extracted {zip_file} to {extract_to}\")"
   ]
  },
  {
   "cell_type": "code",
   "execution_count": null,
   "metadata": {
    "colab": {
     "base_uri": "https://localhost:8080/"
    },
    "id": "5tPQa9UpEdP9",
    "outputId": "fbef36e8-fc0c-4d88-8fb7-f8b6dd9dcee8"
   },
   "outputs": [
    {
     "name": "stdout",
     "output_type": "stream",
     "text": [
      "Downloaded: Negative_tensors.zip\n"
     ]
    }
   ],
   "source": [
    "import requests\n",
    "\n",
    "url = \"https://s3-api.us-geo.objectstorage.softlayer.net/cf-courses-data/CognitiveClass/DL0321EN/data/images/Negative_tensors.zip\"\n",
    "filename = \"Negative_tensors.zip\"\n",
    "\n",
    "response = requests.get(url, stream=True)\n",
    "if response.status_code == 200:\n",
    "    with open(filename, \"wb\") as f:\n",
    "        f.write(response.content)\n",
    "    print(f\"Downloaded: {filename}\")\n",
    "else:\n",
    "    print(\"Failed to download file.\")"
   ]
  },
  {
   "cell_type": "code",
   "execution_count": null,
   "metadata": {
    "colab": {
     "base_uri": "https://localhost:8080/"
    },
    "id": "CsA_fQTf8I6_",
    "outputId": "e4714122-22b5-461a-d5f8-d499af3ef76a"
   },
   "outputs": [
    {
     "name": "stdout",
     "output_type": "stream",
     "text": [
      "Extracted Negative_tensors.zip to ./\n"
     ]
    }
   ],
   "source": [
    "zip_file = \"Negative_tensors.zip\"  # Adjust if the zip file is in a different directory\n",
    "extract_to = \"./\"  # Specify the directory to extract files to\n",
    "\n",
    "# Unzipping the file\n",
    "with zipfile.ZipFile(zip_file, 'r') as zip_ref:\n",
    "    zip_ref.extractall(extract_to)\n",
    "\n",
    "print(f\"Extracted {zip_file} to {extract_to}\")"
   ]
  },
  {
   "cell_type": "markdown",
   "metadata": {
    "id": "8BrlKNWnEdP9"
   },
   "source": [
    "# We will install and import our requisite libraries & packages:\n"
   ]
  },
  {
   "cell_type": "code",
   "execution_count": null,
   "metadata": {},
   "outputs": [],
   "source": [
    "!pip install torch torchvision torchaudio --index-url https://download.pytorch.org/whl/cu118"
   ]
  },
  {
   "cell_type": "markdown",
   "metadata": {
    "id": "W2LpsaQ5EdP-"
   },
   "source": [
    "#### The following are the libraries we are going to use for this project. The <code>torch.manual_seed()</code> is for forcing the random function to give the same results every time we try to recompile it.\n"
   ]
  },
  {
   "cell_type": "code",
   "execution_count": null,
   "metadata": {
    "colab": {
     "base_uri": "https://localhost:8080/"
    },
    "id": "wP-y_wQ0EdP-",
    "outputId": "5cd406eb-57a8-4445-b11a-7142826bb0cd"
   },
   "outputs": [
    {
     "data": {
      "text/plain": [
       "<torch._C.Generator at 0x7b56f4904b30>"
      ]
     },
     "execution_count": 6,
     "metadata": {},
     "output_type": "execute_result"
    }
   ],
   "source": [
    "import torchvision.models as models\n",
    "from PIL import Image\n",
    "import pandas\n",
    "from torchvision import transforms\n",
    "import torch.nn as nn\n",
    "import time\n",
    "import torch\n",
    "import matplotlib.pylab as plt\n",
    "import numpy as np\n",
    "from torch.utils.data import Dataset, DataLoader\n",
    "import h5py\n",
    "import os\n",
    "import glob\n",
    "torch.manual_seed(0)"
   ]
  },
  {
   "cell_type": "code",
   "execution_count": null,
   "metadata": {
    "id": "_rcQg7l9EdP-"
   },
   "outputs": [],
   "source": [
    "from matplotlib.pyplot import imshow\n",
    "import matplotlib.pylab as plt\n",
    "from PIL import Image\n",
    "import pandas as pd\n",
    "import os"
   ]
  },
  {
   "cell_type": "code",
   "execution_count": null,
   "metadata": {
    "id": "rpIGSHOzjIP4"
   },
   "outputs": [],
   "source": [
    "import warnings\n",
    "warnings.filterwarnings(\"ignore\")"
   ]
  },
  {
   "cell_type": "markdown",
   "metadata": {
    "id": "6XAxCpzrEdP_"
   },
   "source": [
    "<!--Empty Space for separating topics-->\n"
   ]
  },
  {
   "cell_type": "markdown",
   "metadata": {
    "id": "WvaQef3LEdP_"
   },
   "source": [
    "<h2 id=\"data_class\">Dataset Class</h2>\n"
   ]
  },
  {
   "cell_type": "markdown",
   "metadata": {
    "id": "FO02s6QeEdP_"
   },
   "source": [
    "#### This dataset class is essentially to speed things up by using tensors instead of jpeg images:"
   ]
  },
  {
   "cell_type": "code",
   "execution_count": null,
   "metadata": {
    "colab": {
     "base_uri": "https://localhost:8080/"
    },
    "id": "yAZlpQ22EdP_",
    "outputId": "f309721e-3ba3-405d-ea4c-e1255ea76e96"
   },
   "outputs": [
    {
     "name": "stdout",
     "output_type": "stream",
     "text": [
      "done\n"
     ]
    }
   ],
   "source": [
    "class Dataset(Dataset):\n",
    "\n",
    "    # Constructor\n",
    "    def __init__(self,transform=None,train=True):\n",
    "        directory = os.getcwd()\n",
    "\n",
    "        positive=\"Positive_tensors\"\n",
    "        negative='Negative_tensors'\n",
    "\n",
    "        positive_file_path=os.path.join(directory,positive)\n",
    "        negative_file_path=os.path.join(directory,negative)\n",
    "        positive_files=[os.path.join(positive_file_path,file) for file in os.listdir(positive_file_path) if file.endswith(\".pt\")]\n",
    "        negative_files=[os.path.join(negative_file_path,file) for file in os.listdir(negative_file_path) if file.endswith(\".pt\")]\n",
    "        number_of_samples=len(positive_files)+len(negative_files)\n",
    "        self.all_files=[None]*number_of_samples\n",
    "        self.all_files[::2]=positive_files\n",
    "        self.all_files[1::2]=negative_files\n",
    "        # The transform is goint to be used on image\n",
    "        self.transform = transform\n",
    "        #torch.LongTensor\n",
    "        self.Y=torch.zeros([number_of_samples]).type(torch.LongTensor)\n",
    "        self.Y[::2]=1\n",
    "        self.Y[1::2]=0\n",
    "\n",
    "        if train:\n",
    "            self.all_files=self.all_files[0:30000]\n",
    "            self.Y=self.Y[0:30000]\n",
    "            self.len=len(self.all_files)\n",
    "        else:\n",
    "            self.all_files=self.all_files[30000:]\n",
    "            self.Y=self.Y[30000:]\n",
    "            self.len=len(self.all_files)\n",
    "\n",
    "    # Get the length\n",
    "    def __len__(self):\n",
    "        return self.len\n",
    "\n",
    "    # Getter\n",
    "    def __getitem__(self, idx):\n",
    "\n",
    "        image=torch.load(self.all_files[idx])\n",
    "        y=self.Y[idx]\n",
    "\n",
    "        # If there is any transform method, apply it onto the image\n",
    "        if self.transform:\n",
    "            image = self.transform(image)\n",
    "\n",
    "        return image, y\n",
    "\n",
    "print(\"done\")"
   ]
  },
  {
   "cell_type": "markdown",
   "metadata": {
    "id": "8nJH6NGJEdP_"
   },
   "source": [
    "#### We create two dataset objects, one for the training data and one for the validation data:\n"
   ]
  },
  {
   "cell_type": "code",
   "execution_count": null,
   "metadata": {
    "colab": {
     "base_uri": "https://localhost:8080/"
    },
    "id": "Ir1PLSDuEdP_",
    "outputId": "a478e4bf-25ca-499e-d914-dbfc5c5d3a57"
   },
   "outputs": [
    {
     "name": "stdout",
     "output_type": "stream",
     "text": [
      "done\n"
     ]
    }
   ],
   "source": [
    "train_dataset = Dataset(train=True)\n",
    "validation_dataset = Dataset(train=False)\n",
    "print(\"done\")"
   ]
  },
  {
   "cell_type": "markdown",
   "metadata": {
    "id": "nfF3N0AzEdP_"
   },
   "source": [
    "## Preparing a pre-trained ResNet-18 model :\n"
   ]
  },
  {
   "cell_type": "markdown",
   "metadata": {
    "id": "Dom-GJHCEdP_"
   },
   "source": [
    "#### Here we load the pre-trained <code>resnet18</code> model. We set the parameter <code>pretrained</code> to <code>True</code>:\n"
   ]
  },
  {
   "cell_type": "code",
   "execution_count": null,
   "metadata": {
    "id": "y_jKmbWiEdP_"
   },
   "outputs": [],
   "source": [
    "model = models.resnet18(pretrained=True)\n",
    "\n",
    "mean = [0.485, 0.456, 0.406]\n",
    "std = [0.229, 0.224, 0.225]\n",
    "\n",
    "composed= transforms.Compose([transforms.Resize(224),\n",
    "    transforms.ToTensor(),\n",
    "    transforms.Normalize(mean,std)])"
   ]
  },
  {
   "cell_type": "markdown",
   "metadata": {
    "id": "DjR5EufHEdQA"
   },
   "source": [
    "#### We set the attribute <code>requires_grad</code> to <code>False</code>. As a result, the pre-trained parameters will not be affected by training.\n"
   ]
  },
  {
   "cell_type": "code",
   "execution_count": null,
   "metadata": {
    "id": "FGpwAhfKEdQA"
   },
   "outputs": [],
   "source": [
    "for param in model.parameters():\n",
    "    param.requires_grad=False"
   ]
  },
  {
   "cell_type": "markdown",
   "metadata": {
    "id": "unhxLI1FEdQA"
   },
   "source": [
    "#### The <code>resnet18</code> model is used to classify 1000 different objects; as a result, the last layer has 1000 outputs.  The 512 inputs come from the fact that the previously hidden layer has 512 outputs.\n"
   ]
  },
  {
   "cell_type": "markdown",
   "metadata": {
    "id": "CHhTto0JEdQA"
   },
   "source": [
    "#### We will replace the output layer <code>model.fc</code> of the neural network with a <code>nn.Linear</code> object to classify 2 different classes."
   ]
  },
  {
   "cell_type": "code",
   "execution_count": null,
   "metadata": {
    "id": "qVV0FAYTEdQA"
   },
   "outputs": [],
   "source": [
    "model.fc=nn.Linear(512,2)"
   ]
  },
  {
   "cell_type": "markdown",
   "metadata": {
    "id": "KHAKgQTSEdQA"
   },
   "source": [
    "#### We will now print our model:"
   ]
  },
  {
   "cell_type": "code",
   "execution_count": null,
   "metadata": {
    "colab": {
     "base_uri": "https://localhost:8080/"
    },
    "id": "b1tIkJetEdQA",
    "outputId": "37a4408e-3005-4ee6-aebe-28b276e98264"
   },
   "outputs": [
    {
     "name": "stdout",
     "output_type": "stream",
     "text": [
      "ResNet(\n",
      "  (conv1): Conv2d(3, 64, kernel_size=(7, 7), stride=(2, 2), padding=(3, 3), bias=False)\n",
      "  (bn1): BatchNorm2d(64, eps=1e-05, momentum=0.1, affine=True, track_running_stats=True)\n",
      "  (relu): ReLU(inplace=True)\n",
      "  (maxpool): MaxPool2d(kernel_size=3, stride=2, padding=1, dilation=1, ceil_mode=False)\n",
      "  (layer1): Sequential(\n",
      "    (0): BasicBlock(\n",
      "      (conv1): Conv2d(64, 64, kernel_size=(3, 3), stride=(1, 1), padding=(1, 1), bias=False)\n",
      "      (bn1): BatchNorm2d(64, eps=1e-05, momentum=0.1, affine=True, track_running_stats=True)\n",
      "      (relu): ReLU(inplace=True)\n",
      "      (conv2): Conv2d(64, 64, kernel_size=(3, 3), stride=(1, 1), padding=(1, 1), bias=False)\n",
      "      (bn2): BatchNorm2d(64, eps=1e-05, momentum=0.1, affine=True, track_running_stats=True)\n",
      "    )\n",
      "    (1): BasicBlock(\n",
      "      (conv1): Conv2d(64, 64, kernel_size=(3, 3), stride=(1, 1), padding=(1, 1), bias=False)\n",
      "      (bn1): BatchNorm2d(64, eps=1e-05, momentum=0.1, affine=True, track_running_stats=True)\n",
      "      (relu): ReLU(inplace=True)\n",
      "      (conv2): Conv2d(64, 64, kernel_size=(3, 3), stride=(1, 1), padding=(1, 1), bias=False)\n",
      "      (bn2): BatchNorm2d(64, eps=1e-05, momentum=0.1, affine=True, track_running_stats=True)\n",
      "    )\n",
      "  )\n",
      "  (layer2): Sequential(\n",
      "    (0): BasicBlock(\n",
      "      (conv1): Conv2d(64, 128, kernel_size=(3, 3), stride=(2, 2), padding=(1, 1), bias=False)\n",
      "      (bn1): BatchNorm2d(128, eps=1e-05, momentum=0.1, affine=True, track_running_stats=True)\n",
      "      (relu): ReLU(inplace=True)\n",
      "      (conv2): Conv2d(128, 128, kernel_size=(3, 3), stride=(1, 1), padding=(1, 1), bias=False)\n",
      "      (bn2): BatchNorm2d(128, eps=1e-05, momentum=0.1, affine=True, track_running_stats=True)\n",
      "      (downsample): Sequential(\n",
      "        (0): Conv2d(64, 128, kernel_size=(1, 1), stride=(2, 2), bias=False)\n",
      "        (1): BatchNorm2d(128, eps=1e-05, momentum=0.1, affine=True, track_running_stats=True)\n",
      "      )\n",
      "    )\n",
      "    (1): BasicBlock(\n",
      "      (conv1): Conv2d(128, 128, kernel_size=(3, 3), stride=(1, 1), padding=(1, 1), bias=False)\n",
      "      (bn1): BatchNorm2d(128, eps=1e-05, momentum=0.1, affine=True, track_running_stats=True)\n",
      "      (relu): ReLU(inplace=True)\n",
      "      (conv2): Conv2d(128, 128, kernel_size=(3, 3), stride=(1, 1), padding=(1, 1), bias=False)\n",
      "      (bn2): BatchNorm2d(128, eps=1e-05, momentum=0.1, affine=True, track_running_stats=True)\n",
      "    )\n",
      "  )\n",
      "  (layer3): Sequential(\n",
      "    (0): BasicBlock(\n",
      "      (conv1): Conv2d(128, 256, kernel_size=(3, 3), stride=(2, 2), padding=(1, 1), bias=False)\n",
      "      (bn1): BatchNorm2d(256, eps=1e-05, momentum=0.1, affine=True, track_running_stats=True)\n",
      "      (relu): ReLU(inplace=True)\n",
      "      (conv2): Conv2d(256, 256, kernel_size=(3, 3), stride=(1, 1), padding=(1, 1), bias=False)\n",
      "      (bn2): BatchNorm2d(256, eps=1e-05, momentum=0.1, affine=True, track_running_stats=True)\n",
      "      (downsample): Sequential(\n",
      "        (0): Conv2d(128, 256, kernel_size=(1, 1), stride=(2, 2), bias=False)\n",
      "        (1): BatchNorm2d(256, eps=1e-05, momentum=0.1, affine=True, track_running_stats=True)\n",
      "      )\n",
      "    )\n",
      "    (1): BasicBlock(\n",
      "      (conv1): Conv2d(256, 256, kernel_size=(3, 3), stride=(1, 1), padding=(1, 1), bias=False)\n",
      "      (bn1): BatchNorm2d(256, eps=1e-05, momentum=0.1, affine=True, track_running_stats=True)\n",
      "      (relu): ReLU(inplace=True)\n",
      "      (conv2): Conv2d(256, 256, kernel_size=(3, 3), stride=(1, 1), padding=(1, 1), bias=False)\n",
      "      (bn2): BatchNorm2d(256, eps=1e-05, momentum=0.1, affine=True, track_running_stats=True)\n",
      "    )\n",
      "  )\n",
      "  (layer4): Sequential(\n",
      "    (0): BasicBlock(\n",
      "      (conv1): Conv2d(256, 512, kernel_size=(3, 3), stride=(2, 2), padding=(1, 1), bias=False)\n",
      "      (bn1): BatchNorm2d(512, eps=1e-05, momentum=0.1, affine=True, track_running_stats=True)\n",
      "      (relu): ReLU(inplace=True)\n",
      "      (conv2): Conv2d(512, 512, kernel_size=(3, 3), stride=(1, 1), padding=(1, 1), bias=False)\n",
      "      (bn2): BatchNorm2d(512, eps=1e-05, momentum=0.1, affine=True, track_running_stats=True)\n",
      "      (downsample): Sequential(\n",
      "        (0): Conv2d(256, 512, kernel_size=(1, 1), stride=(2, 2), bias=False)\n",
      "        (1): BatchNorm2d(512, eps=1e-05, momentum=0.1, affine=True, track_running_stats=True)\n",
      "      )\n",
      "    )\n",
      "    (1): BasicBlock(\n",
      "      (conv1): Conv2d(512, 512, kernel_size=(3, 3), stride=(1, 1), padding=(1, 1), bias=False)\n",
      "      (bn1): BatchNorm2d(512, eps=1e-05, momentum=0.1, affine=True, track_running_stats=True)\n",
      "      (relu): ReLU(inplace=True)\n",
      "      (conv2): Conv2d(512, 512, kernel_size=(3, 3), stride=(1, 1), padding=(1, 1), bias=False)\n",
      "      (bn2): BatchNorm2d(512, eps=1e-05, momentum=0.1, affine=True, track_running_stats=True)\n",
      "    )\n",
      "  )\n",
      "  (avgpool): AdaptiveAvgPool2d(output_size=(1, 1))\n",
      "  (fc): Linear(in_features=512, out_features=2, bias=True)\n",
      ")\n"
     ]
    }
   ],
   "source": [
    "print(model)"
   ]
  },
  {
   "cell_type": "markdown",
   "metadata": {
    "id": "LsisdHuFEdQA"
   },
   "source": [
    "# Training the Model\n"
   ]
  },
  {
   "cell_type": "markdown",
   "metadata": {
    "id": "g5NYfhZ9EdQA"
   },
   "source": [
    "#### Here we will train our model:\n"
   ]
  },
  {
   "cell_type": "code",
   "execution_count": null,
   "metadata": {
    "id": "qHlGY7ipEdQA"
   },
   "outputs": [],
   "source": [
    "#Use CUDA if available\n",
    "device = torch.device(\"cuda\" if torch.cuda.is_available() else \"cpu\")"
   ]
  },
  {
   "cell_type": "code",
   "execution_count": null,
   "metadata": {
    "id": "AvdiPlVcEdQG"
   },
   "outputs": [],
   "source": [
    "model = model.to(device)"
   ]
  },
  {
   "cell_type": "markdown",
   "metadata": {
    "id": "BB9bpQMWEdQG"
   },
   "source": [
    "#### We create a loss function:\n"
   ]
  },
  {
   "cell_type": "code",
   "execution_count": null,
   "metadata": {
    "id": "9sTlXIm_EdQG"
   },
   "outputs": [],
   "source": [
    "loss_function=nn.CrossEntropyLoss()"
   ]
  },
  {
   "cell_type": "markdown",
   "metadata": {
    "id": "QMUEY49AEdQG"
   },
   "source": [
    "#### Here we create a training loader and validation loader object, the batch size will have 100 samples each.\n"
   ]
  },
  {
   "cell_type": "code",
   "execution_count": null,
   "metadata": {
    "id": "voF8lygiEdQG"
   },
   "outputs": [],
   "source": [
    "train_loader=torch.utils.data.DataLoader(dataset=train_dataset, batch_size=100)\n",
    "validation_loader=torch.utils.data.DataLoader(dataset=validation_dataset, batch_size=100)"
   ]
  },
  {
   "cell_type": "markdown",
   "metadata": {
    "id": "fYJiqgWQEdQG"
   },
   "source": [
    "#### We use the following optimizer to minimize the loss:\n"
   ]
  },
  {
   "cell_type": "code",
   "execution_count": null,
   "metadata": {
    "id": "XBP-MMuuEdQG"
   },
   "outputs": [],
   "source": [
    "optimizer = torch.optim.Adam([parameters  for parameters in model.parameters() if parameters.requires_grad],lr=0.001)"
   ]
  },
  {
   "cell_type": "markdown",
   "metadata": {
    "id": "RW8raovZEdQG"
   },
   "source": [
    "<!--Empty Space for separating topics-->\n"
   ]
  },
  {
   "cell_type": "markdown",
   "metadata": {
    "id": "AfHS5qi9EdQH"
   },
   "source": [
    "### Here we calculate  the accuracy on the validation data for one epoch; this can take about 90 min for a single epoch depending on hardware and CUDA availability!"
   ]
  },
  {
   "cell_type": "code",
   "execution_count": null,
   "metadata": {
    "colab": {
     "background_save": true
    },
    "id": "fgYpLZyKEdQH",
    "outputId": "746d5af6-4dbe-4cca-8f25-bdd09aea33c1"
   },
   "outputs": [
    {
     "name": "stdout",
     "output_type": "stream",
     "text": [
      "Epoch 1/1, Loss: 0.0808, Accuracy: 0.9933\n",
      "Training completed in: 6235.48 seconds\n"
     ]
    }
   ],
   "source": [
    "n_epochs = 1\n",
    "loss_list = []\n",
    "accuracy_list = []\n",
    "N_test = len(validation_dataset)\n",
    "\n",
    "start_time = time.time()\n",
    "\n",
    "for epoch in range(n_epochs):\n",
    "    model.train()  # Set model to training mode\n",
    "    epoch_loss_list = []  # Reset loss list for each epoch\n",
    "\n",
    "    # Training phase\n",
    "    for x, y in train_loader:\n",
    "        optimizer.zero_grad()  # Clear gradients\n",
    "        z = model(x)           # Forward pass\n",
    "        loss = loss_function(z, y)  # Calculate loss\n",
    "        loss.backward()  # Backward pass\n",
    "        optimizer.step()  # Update weights\n",
    "\n",
    "        epoch_loss_list.append(loss.item())  # Track loss\n",
    "\n",
    "    avg_loss = np.mean(epoch_loss_list)\n",
    "    loss_list.append(avg_loss)\n",
    "\n",
    "    # Validation phase\n",
    "    correct = 0\n",
    "    with torch.no_grad():  # No gradient calculation for validation\n",
    "        model.eval()  # Set model to evaluation mode\n",
    "        for x_test, y_test in validation_loader:\n",
    "            z = model(x_test)  # Forward pass\n",
    "            _, yhat = torch.max(z.data, 1)  # Get predictions\n",
    "            correct += (yhat == y_test).sum().item()  # Count correct predictions\n",
    "\n",
    "    accuracy = correct / N_test  # Calculate accuracy\n",
    "    accuracy_list.append(accuracy)\n",
    "\n",
    "    print(f'Epoch {epoch + 1}/{n_epochs}, Loss: {avg_loss:.4f}, Accuracy: {accuracy:.4f}')\n",
    "\n",
    "end_time = time.time()\n",
    "print(f\"Training completed in: {end_time - start_time:.2f} seconds\")\n"
   ]
  },
  {
   "cell_type": "markdown",
   "metadata": {
    "id": "099AW9f-EdQH"
   },
   "source": [
    "#### We print out the accuracy and plot the loss stored in the list <code>loss_list</code> for every iteration:"
   ]
  },
  {
   "cell_type": "code",
   "execution_count": null,
   "metadata": {
    "colab": {
     "background_save": true
    },
    "id": "MMjCPLy8EdQH",
    "outputId": "46ed54cd-e54d-4a95-8dc8-908d10a99663"
   },
   "outputs": [
    {
     "data": {
      "text/plain": [
       "0.9933"
      ]
     },
     "execution_count": 21,
     "metadata": {},
     "output_type": "execute_result"
    }
   ],
   "source": [
    "accuracy"
   ]
  },
  {
   "cell_type": "code",
   "execution_count": null,
   "metadata": {
    "colab": {
     "background_save": true
    },
    "id": "T7wXcWZvEdQH",
    "outputId": "77148a99-f4c1-4e16-b287-bde420ea907d"
   },
   "outputs": [
    {
     "data": {
      "image/png": "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\n",
      "text/plain": [
       "<Figure size 640x480 with 1 Axes>"
      ]
     },
     "metadata": {},
     "output_type": "display_data"
    }
   ],
   "source": [
    "plt.plot(epoch_loss_list)\n",
    "plt.xlabel(\"Iteration\")\n",
    "plt.ylabel(\"Loss \")\n",
    "plt.show()"
   ]
  },
  {
   "cell_type": "markdown",
   "metadata": {},
   "source": [
    "##### This graph indicates a highly accurate model"
   ]
  },
  {
   "cell_type": "markdown",
   "metadata": {
    "id": "4JwfEMLLEdQH"
   },
   "source": [
    "## Identifying misclassified samples\n"
   ]
  },
  {
   "cell_type": "markdown",
   "metadata": {
    "id": "IpA-xy0tEdQH"
   },
   "source": [
    "<b>Here we will identify the first four misclassified samples using the validation data:</b>\n"
   ]
  },
  {
   "cell_type": "code",
   "execution_count": null,
   "metadata": {
    "colab": {
     "background_save": true
    },
    "id": "UAk9E276EdQH",
    "outputId": "eda0e9a8-cb96-4cde-d9e7-0177d4d9dd5c"
   },
   "outputs": [
    {
     "name": "stdout",
     "output_type": "stream",
     "text": [
      "Sample 446 - Predicted value: 0, Actual value: 1\n",
      "Sample 704 - Predicted value: 0, Actual value: 1\n",
      "Sample 778 - Predicted value: 0, Actual value: 1\n",
      "Sample 844 - Predicted value: 0, Actual value: 1\n"
     ]
    }
   ],
   "source": [
    "# New DataLoader for validation with batch size 1\n",
    "validation_loaderq3 = torch.utils.data.DataLoader(dataset=validation_dataset, batch_size=1)\n",
    "\n",
    "# List to store indices and misclassified details\n",
    "misclassified_samples = []\n",
    "\n",
    "# Set model to evaluation mode\n",
    "model.eval()\n",
    "with torch.no_grad():\n",
    "    for idx, (x_test, y_test) in enumerate(validation_loaderq3):\n",
    "        output = model(x_test)  # prediction\n",
    "        _, yhat = torch.max(output, 1)  # vs predicted label\n",
    "\n",
    "        if yhat.item() != y_test.item():  # Check for mismatch\n",
    "            misclassified_samples.append((idx, yhat.item(), y_test.item()))  # Record index, predicted, and actual labels\n",
    "            if len(misclassified_samples) == 4:  # Stop after 4 misclassifications\n",
    "                break\n",
    "\n",
    "# Output misclassified samples\n",
    "for idx, predicted, actual in misclassified_samples:\n",
    "    print(f\"Sample {idx} - Predicted value: {predicted}, Actual value: {actual}\")\n",
    "\n"
   ]
  },
  {
   "cell_type": "markdown",
   "metadata": {
    "colab": {
     "background_save": true
    },
    "id": "_rWFBa4viZYr"
   },
   "source": [
    "#### We have developed a model using transfer learning with ResNet-18 that is highly accurate at identifying positive and negative samples. While extended training may further improve accuracy, it might not be the most efficient approach. Our model has many practical applications in binary classification use cases such as medical imaging diagnostics, fraud detection, and generating feature representations from high-dimensional data for further analysis!"
   ]
  }
 ],
 "metadata": {
  "colab": {
   "provenance": []
  },
  "kernelspec": {
   "display_name": "Python 3 (ipykernel)",
   "language": "python",
   "name": "python3"
  },
  "language_info": {
   "codemirror_mode": {
    "name": "ipython",
    "version": 3
   },
   "file_extension": ".py",
   "mimetype": "text/x-python",
   "name": "python",
   "nbconvert_exporter": "python",
   "pygments_lexer": "ipython3",
   "version": "3.11.5"
  }
 },
 "nbformat": 4,
 "nbformat_minor": 1
}
