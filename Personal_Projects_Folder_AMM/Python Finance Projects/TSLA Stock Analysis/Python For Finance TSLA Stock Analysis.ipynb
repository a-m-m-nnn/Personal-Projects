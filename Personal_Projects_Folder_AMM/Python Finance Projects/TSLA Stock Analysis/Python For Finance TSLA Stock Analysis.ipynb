{
 "cells": [
  {
   "cell_type": "markdown",
   "id": "bb15a37d-f0f3-4319-a2e4-daa964ba3308",
   "metadata": {},
   "source": [
    "## Python for Finance - TSLA Stock Analysis Project - A.M.M. ICL ICBS ESB '24\n",
    "\n",
    "###### ** Markdown cells contain subtitles of processes and sequenced steps underlying reasoning, # comments for code elaboration**\n",
    "\n",
    "## We begin by importing our prerequisites:\n"
   ]
  },
  {
   "cell_type": "code",
   "execution_count": 41,
   "id": "93f77745-3087-4ed4-844e-cd4fbc1edc22",
   "metadata": {},
   "outputs": [],
   "source": [
    "import pandas as pd\n",
    "import numpy as np\n",
    "import matplotlib.pyplot as plt"
   ]
  },
  {
   "cell_type": "markdown",
   "id": "f94ece02-19de-4e80-9c60-dd104ee3ee19",
   "metadata": {},
   "source": [
    "# Data Cleaning\n",
    "\n",
    "### We load the raw data:"
   ]
  },
  {
   "cell_type": "code",
   "execution_count": 42,
   "id": "bc9a2f17-0a99-4242-8466-2cb5b2f8eabd",
   "metadata": {},
   "outputs": [],
   "source": [
    "###Save included data to own desired location\n",
    "df = pd.read_csv('C:/Users/amjmo/Downloads/TSLA_10YR_raw_(2).csv')"
   ]
  },
  {
   "cell_type": "markdown",
   "id": "4bd11fff-7c18-445c-99c9-03ec4587489a",
   "metadata": {},
   "source": [
    "### We try shift 'date' to \"datetime\" target format"
   ]
  },
  {
   "cell_type": "code",
   "execution_count": 43,
   "id": "32206eac-f616-41ba-9bfb-ecd36acaeb11",
   "metadata": {},
   "outputs": [],
   "source": [
    "df['Date'] = pd.to_datetime(df['Date'])"
   ]
  },
  {
   "cell_type": "code",
   "execution_count": 44,
   "id": "5f903be5-0b41-4527-81a8-2c3b532cafd2",
   "metadata": {},
   "outputs": [],
   "source": [
    "df.set_index('Date', inplace=True)"
   ]
  },
  {
   "cell_type": "markdown",
   "id": "8f8e6ee1-b76c-4f88-aeba-111958aafd88",
   "metadata": {},
   "source": [
    "### Set the \"Date\" column index"
   ]
  },
  {
   "cell_type": "code",
   "execution_count": 45,
   "id": "a307b23b-2157-44b1-9fe1-2b5a6d8a60a4",
   "metadata": {
    "scrolled": true
   },
   "outputs": [],
   "source": [
    "df.sort_index(inplace=True)"
   ]
  },
  {
   "cell_type": "markdown",
   "id": "90502911-ab6b-4f1b-b436-4e0ec6bc06f4",
   "metadata": {},
   "source": [
    "### Remove duplicates in data"
   ]
  },
  {
   "cell_type": "code",
   "execution_count": 46,
   "id": "3eae0328-98e9-40a6-8b2d-98bded237393",
   "metadata": {},
   "outputs": [],
   "source": [
    "df.duplicated().sum()\n",
    "df.drop_duplicates(inplace=True)"
   ]
  },
  {
   "cell_type": "markdown",
   "id": "84ac4988-fa14-4c52-9e15-db028a3e9108",
   "metadata": {},
   "source": [
    "### Check the first and last few lines of the data  "
   ]
  },
  {
   "cell_type": "code",
   "execution_count": 47,
   "id": "68bba345-e308-401d-a684-7e84c6dbbabc",
   "metadata": {},
   "outputs": [
    {
     "name": "stdout",
     "output_type": "stream",
     "text": [
      "                 Open       High       Low      Close  Adj Close      Volume\n",
      "Date                                                                        \n",
      "2014-01-02   9.986667  10.165333  9.770000  10.006667  10.006667  92826000.0\n",
      "2014-01-03  10.000000  10.146000  9.906667   9.970667   9.970667  70425000.0\n",
      "2014-01-06  10.000000  10.026667  9.682667   9.800000   9.800000  80416500.0\n",
      "2014-01-07   9.841333  10.026667  9.683333   9.957333   9.957333  75511500.0\n",
      "2014-01-08   9.923333  10.246667  9.917333  10.085333  10.085333  92448000.0\n"
     ]
    }
   ],
   "source": [
    "print(df.head())"
   ]
  },
  {
   "cell_type": "code",
   "execution_count": 48,
   "id": "5cb9d05d-4b2c-4f50-9395-cfadae118240",
   "metadata": {
    "scrolled": true
   },
   "outputs": [
    {
     "name": "stdout",
     "output_type": "stream",
     "text": [
      "                  Open        High         Low       Close   Adj Close  \\\n",
      "Date                                                                     \n",
      "2023-12-22  256.760010  258.220001  251.369995  252.539993  252.539993   \n",
      "2023-12-26  254.490005  257.970001  252.910004  256.609985  256.609985   \n",
      "2023-12-27  258.350006  263.339996  257.519989  261.440002  261.440002   \n",
      "2023-12-28  263.660004  265.130005  252.710007  253.179993  253.179993   \n",
      "2023-12-29  255.100006  255.190002  247.429993  248.479996  248.479996   \n",
      "\n",
      "                 Volume  \n",
      "Date                     \n",
      "2023-12-22   93249800.0  \n",
      "2023-12-26   86892400.0  \n",
      "2023-12-27  106494400.0  \n",
      "2023-12-28  113619900.0  \n",
      "2023-12-29  100615300.0  \n"
     ]
    }
   ],
   "source": [
    "print(df.tail())"
   ]
  },
  {
   "cell_type": "markdown",
   "id": "cc6ad275-bab6-42a8-b5e5-1c812412754c",
   "metadata": {},
   "source": [
    "### Check the data overview"
   ]
  },
  {
   "cell_type": "code",
   "execution_count": 49,
   "id": "1624ac01-e513-4e07-93dc-e0703ca823d2",
   "metadata": {},
   "outputs": [
    {
     "name": "stdout",
     "output_type": "stream",
     "text": [
      "<class 'pandas.core.frame.DataFrame'>\n",
      "DatetimeIndex: 2516 entries, 2014-01-02 to 2023-12-29\n",
      "Data columns (total 6 columns):\n",
      " #   Column     Non-Null Count  Dtype  \n",
      "---  ------     --------------  -----  \n",
      " 0   Open       2502 non-null   float64\n",
      " 1   High       2506 non-null   float64\n",
      " 2   Low        2511 non-null   float64\n",
      " 3   Close      2509 non-null   float64\n",
      " 4   Adj Close  2513 non-null   float64\n",
      " 5   Volume     2503 non-null   float64\n",
      "dtypes: float64(6)\n",
      "memory usage: 137.6 KB\n",
      "None\n"
     ]
    }
   ],
   "source": [
    "print(df.info())"
   ]
  },
  {
   "cell_type": "markdown",
   "id": "1412c717-41e7-4ff7-a05f-c2610581500b",
   "metadata": {},
   "source": [
    "### Fill in the missing 'Open' price to complete Rule 1, and use the forward fill mode of the 'ffill' method:"
   ]
  },
  {
   "cell_type": "code",
   "execution_count": 50,
   "id": "e2d0eb15-8087-4a31-b72a-3f2dbc9b7daa",
   "metadata": {},
   "outputs": [],
   "source": [
    "df['Open'] = df['Open'].ffill()"
   ]
  },
  {
   "cell_type": "markdown",
   "id": "18ee59ec-1cab-40fc-bb09-081d562c4213",
   "metadata": {},
   "source": [
    "### This step fills in the missing “Close” price and uses the backfill mode of the “bfill” method:"
   ]
  },
  {
   "cell_type": "code",
   "execution_count": 51,
   "id": "f1e5c748-59e4-4c65-9355-390f05d84cfe",
   "metadata": {},
   "outputs": [],
   "source": [
    "df['Close'] = df['Close'].bfill()"
   ]
  },
  {
   "cell_type": "markdown",
   "id": "705549ef-454d-4d03-9d3d-d6c9914ab7a0",
   "metadata": {},
   "source": [
    "### This step fills in the missing values for the “Adj Close” column as Rule 3"
   ]
  },
  {
   "cell_type": "code",
   "execution_count": 52,
   "id": "33fd70ee-1c02-432c-a336-38ae7df13db9",
   "metadata": {},
   "outputs": [],
   "source": [
    "df['Adj Close'] = df['Adj Close'].fillna(df['Close'])"
   ]
  },
  {
   "cell_type": "markdown",
   "id": "ecf5ae45-c1e3-4733-ad2a-ab60f8a527e5",
   "metadata": {},
   "source": [
    "### This step uses “interpolate” for missing values"
   ]
  },
  {
   "cell_type": "code",
   "execution_count": 53,
   "id": "b708ac59-6999-44b9-a567-6241e5c53a13",
   "metadata": {},
   "outputs": [],
   "source": [
    "df['High'] = df['High'].interpolate(method='linear')\n",
    "df['Low'] = df['Low'].interpolate(method='linear')"
   ]
  },
  {
   "cell_type": "markdown",
   "id": "fd691ee7-5133-474e-9197-635ea851fca9",
   "metadata": {},
   "source": [
    "### The missing values in the 'Volume' column are filled with the 'Close' price and the 'Open' price:"
   ]
  },
  {
   "cell_type": "code",
   "execution_count": 54,
   "id": "d4ce878a-5318-4aea-a555-4a2493e4694e",
   "metadata": {},
   "outputs": [],
   "source": [
    "close_equals_open = df['Close'] == df['Open']\n",
    "median_volume = df['Volume'].median()"
   ]
  },
  {
   "cell_type": "markdown",
   "id": "16ce9ce6-465f-4087-ab47-e90dfd59c55c",
   "metadata": {},
   "source": [
    "### \"loc\" is used to locate the position where the \"Close\" price equals the \"Open\" price and fill it in with \"0\""
   ]
  },
  {
   "cell_type": "code",
   "execution_count": 55,
   "id": "c5a5dea1-597f-4a41-8890-b99681b4bb49",
   "metadata": {
    "scrolled": true
   },
   "outputs": [],
   "source": [
    "df.loc[close_equals_open, 'Volume'] = df.loc[close_equals_open, 'Volume'].fillna(0)"
   ]
  },
  {
   "cell_type": "code",
   "execution_count": 56,
   "id": "b07d4ea6-de46-4ccf-b6af-3d7031f37016",
   "metadata": {},
   "outputs": [],
   "source": [
    "df['Volume'] = df['Volume'].fillna(median_volume)"
   ]
  },
  {
   "cell_type": "markdown",
   "id": "809e401b-d28a-45e9-9914-1b89f1b54276",
   "metadata": {},
   "source": [
    "### Verify the results of data cleaning"
   ]
  },
  {
   "cell_type": "code",
   "execution_count": 57,
   "id": "c1270fcf-7097-446c-93e7-72012590e68a",
   "metadata": {
    "scrolled": true
   },
   "outputs": [
    {
     "name": "stdout",
     "output_type": "stream",
     "text": [
      "<class 'pandas.core.frame.DataFrame'>\n",
      "DatetimeIndex: 2516 entries, 2014-01-02 to 2023-12-29\n",
      "Data columns (total 6 columns):\n",
      " #   Column     Non-Null Count  Dtype  \n",
      "---  ------     --------------  -----  \n",
      " 0   Open       2516 non-null   float64\n",
      " 1   High       2516 non-null   float64\n",
      " 2   Low        2516 non-null   float64\n",
      " 3   Close      2516 non-null   float64\n",
      " 4   Adj Close  2516 non-null   float64\n",
      " 5   Volume     2516 non-null   float64\n",
      "dtypes: float64(6)\n",
      "memory usage: 137.6 KB\n",
      "None\n"
     ]
    }
   ],
   "source": [
    "print(df.info())"
   ]
  },
  {
   "cell_type": "markdown",
   "id": "3dd51eb4-ada8-4c46-8bce-0985891692f7",
   "metadata": {},
   "source": [
    "### Extract data from 2019"
   ]
  },
  {
   "cell_type": "code",
   "execution_count": 58,
   "id": "45baed8e-0dd9-48c4-a93a-e380250456a2",
   "metadata": {},
   "outputs": [],
   "source": [
    "df = df.loc['2019-01-01':]"
   ]
  },
  {
   "cell_type": "markdown",
   "id": "bec0fd26-c70c-4337-a829-66798bb471dd",
   "metadata": {},
   "source": [
    "### Verify the results of data cleaning"
   ]
  },
  {
   "cell_type": "code",
   "execution_count": 59,
   "id": "ca2abf10-939e-468b-9810-944520cf9caf",
   "metadata": {},
   "outputs": [
    {
     "name": "stdout",
     "output_type": "stream",
     "text": [
      "                 Open       High        Low      Close  Adj Close       Volume\n",
      "Date                                                                          \n",
      "2019-01-02  20.406668  21.008667  19.920000  20.674667  20.674667  174879000.0\n",
      "2019-01-03  20.466667  20.626667  19.825333  20.024000  20.024000  104478000.0\n",
      "2019-01-04  20.400000  21.200001  20.181999  21.179333  21.179333  110911500.0\n",
      "2019-01-07  21.448000  22.449333  21.183332  22.330667  22.330667  113268000.0\n",
      "2019-01-08  22.797333  22.934000  21.801332  22.356667  22.356667  105127500.0\n"
     ]
    }
   ],
   "source": [
    "print(df.head())"
   ]
  },
  {
   "cell_type": "markdown",
   "id": "cc2f3fa7-6f07-49b8-b517-cb7a2203f8cf",
   "metadata": {},
   "source": [
    "### Save the cleaned data into new file"
   ]
  },
  {
   "cell_type": "code",
   "execution_count": 60,
   "id": "988deb1a-dbb7-4d2c-b290-3493677041c3",
   "metadata": {},
   "outputs": [],
   "source": [
    "###Save cleaned data to own desired location\n",
    "df.to_csv('C:/Users/amjmo/Downloads/TSLA_10YR_clean_(11).csv')"
   ]
  },
  {
   "cell_type": "markdown",
   "id": "96a6c23c-bbc7-4c51-961f-d34fc94a245d",
   "metadata": {},
   "source": [
    "# Feature Engineering\n",
    "\n",
    "### We read in our cleaned data and summarily check for any error"
   ]
  },
  {
   "cell_type": "code",
   "execution_count": 61,
   "id": "b2281f2b-81ad-4c4b-8249-afc6e9447054",
   "metadata": {
    "scrolled": true
   },
   "outputs": [
    {
     "name": "stdout",
     "output_type": "stream",
     "text": [
      "<class 'pandas.core.frame.DataFrame'>\n",
      "RangeIndex: 1258 entries, 0 to 1257\n",
      "Data columns (total 7 columns):\n",
      " #   Column     Non-Null Count  Dtype  \n",
      "---  ------     --------------  -----  \n",
      " 0   Date       1258 non-null   object \n",
      " 1   Open       1258 non-null   float64\n",
      " 2   High       1258 non-null   float64\n",
      " 3   Low        1258 non-null   float64\n",
      " 4   Close      1258 non-null   float64\n",
      " 5   Adj Close  1258 non-null   float64\n",
      " 6   Volume     1258 non-null   float64\n",
      "dtypes: float64(6), object(1)\n",
      "memory usage: 68.9+ KB\n"
     ]
    }
   ],
   "source": [
    "df = pd.read_csv('C:/Users/amjmo/Downloads/TSLA_10YR_clean_(11).csv')\n",
    "df.info()"
   ]
  },
  {
   "cell_type": "markdown",
   "id": "944b1779-3d5b-49f5-90c8-827652d1a5f6",
   "metadata": {},
   "source": [
    "### \"Boiler plate\" date indexing and addition of 'Year' column "
   ]
  },
  {
   "cell_type": "code",
   "execution_count": 62,
   "id": "7d65e8d8-e25b-47a7-a6d3-0481177883a8",
   "metadata": {},
   "outputs": [
    {
     "data": {
      "text/html": [
       "<div>\n",
       "<style scoped>\n",
       "    .dataframe tbody tr th:only-of-type {\n",
       "        vertical-align: middle;\n",
       "    }\n",
       "\n",
       "    .dataframe tbody tr th {\n",
       "        vertical-align: top;\n",
       "    }\n",
       "\n",
       "    .dataframe thead th {\n",
       "        text-align: right;\n",
       "    }\n",
       "</style>\n",
       "<table border=\"1\" class=\"dataframe\">\n",
       "  <thead>\n",
       "    <tr style=\"text-align: right;\">\n",
       "      <th></th>\n",
       "      <th>Open</th>\n",
       "      <th>High</th>\n",
       "      <th>Low</th>\n",
       "      <th>Close</th>\n",
       "      <th>Adj Close</th>\n",
       "      <th>Volume</th>\n",
       "      <th>Year</th>\n",
       "    </tr>\n",
       "    <tr>\n",
       "      <th>Date</th>\n",
       "      <th></th>\n",
       "      <th></th>\n",
       "      <th></th>\n",
       "      <th></th>\n",
       "      <th></th>\n",
       "      <th></th>\n",
       "      <th></th>\n",
       "    </tr>\n",
       "  </thead>\n",
       "  <tbody>\n",
       "    <tr>\n",
       "      <th>2019-01-02</th>\n",
       "      <td>20.406668</td>\n",
       "      <td>21.008667</td>\n",
       "      <td>19.920000</td>\n",
       "      <td>20.674667</td>\n",
       "      <td>20.674667</td>\n",
       "      <td>174879000.0</td>\n",
       "      <td>2019</td>\n",
       "    </tr>\n",
       "    <tr>\n",
       "      <th>2019-01-03</th>\n",
       "      <td>20.466667</td>\n",
       "      <td>20.626667</td>\n",
       "      <td>19.825333</td>\n",
       "      <td>20.024000</td>\n",
       "      <td>20.024000</td>\n",
       "      <td>104478000.0</td>\n",
       "      <td>2019</td>\n",
       "    </tr>\n",
       "    <tr>\n",
       "      <th>2019-01-04</th>\n",
       "      <td>20.400000</td>\n",
       "      <td>21.200001</td>\n",
       "      <td>20.181999</td>\n",
       "      <td>21.179333</td>\n",
       "      <td>21.179333</td>\n",
       "      <td>110911500.0</td>\n",
       "      <td>2019</td>\n",
       "    </tr>\n",
       "    <tr>\n",
       "      <th>2019-01-07</th>\n",
       "      <td>21.448000</td>\n",
       "      <td>22.449333</td>\n",
       "      <td>21.183332</td>\n",
       "      <td>22.330667</td>\n",
       "      <td>22.330667</td>\n",
       "      <td>113268000.0</td>\n",
       "      <td>2019</td>\n",
       "    </tr>\n",
       "    <tr>\n",
       "      <th>2019-01-08</th>\n",
       "      <td>22.797333</td>\n",
       "      <td>22.934000</td>\n",
       "      <td>21.801332</td>\n",
       "      <td>22.356667</td>\n",
       "      <td>22.356667</td>\n",
       "      <td>105127500.0</td>\n",
       "      <td>2019</td>\n",
       "    </tr>\n",
       "    <tr>\n",
       "      <th>...</th>\n",
       "      <td>...</td>\n",
       "      <td>...</td>\n",
       "      <td>...</td>\n",
       "      <td>...</td>\n",
       "      <td>...</td>\n",
       "      <td>...</td>\n",
       "      <td>...</td>\n",
       "    </tr>\n",
       "    <tr>\n",
       "      <th>2023-12-22</th>\n",
       "      <td>256.760010</td>\n",
       "      <td>258.220001</td>\n",
       "      <td>251.369995</td>\n",
       "      <td>252.539993</td>\n",
       "      <td>252.539993</td>\n",
       "      <td>93249800.0</td>\n",
       "      <td>2023</td>\n",
       "    </tr>\n",
       "    <tr>\n",
       "      <th>2023-12-26</th>\n",
       "      <td>254.490005</td>\n",
       "      <td>257.970001</td>\n",
       "      <td>252.910004</td>\n",
       "      <td>256.609985</td>\n",
       "      <td>256.609985</td>\n",
       "      <td>86892400.0</td>\n",
       "      <td>2023</td>\n",
       "    </tr>\n",
       "    <tr>\n",
       "      <th>2023-12-27</th>\n",
       "      <td>258.350006</td>\n",
       "      <td>263.339996</td>\n",
       "      <td>257.519989</td>\n",
       "      <td>261.440002</td>\n",
       "      <td>261.440002</td>\n",
       "      <td>106494400.0</td>\n",
       "      <td>2023</td>\n",
       "    </tr>\n",
       "    <tr>\n",
       "      <th>2023-12-28</th>\n",
       "      <td>263.660004</td>\n",
       "      <td>265.130005</td>\n",
       "      <td>252.710007</td>\n",
       "      <td>253.179993</td>\n",
       "      <td>253.179993</td>\n",
       "      <td>113619900.0</td>\n",
       "      <td>2023</td>\n",
       "    </tr>\n",
       "    <tr>\n",
       "      <th>2023-12-29</th>\n",
       "      <td>255.100006</td>\n",
       "      <td>255.190002</td>\n",
       "      <td>247.429993</td>\n",
       "      <td>248.479996</td>\n",
       "      <td>248.479996</td>\n",
       "      <td>100615300.0</td>\n",
       "      <td>2023</td>\n",
       "    </tr>\n",
       "  </tbody>\n",
       "</table>\n",
       "<p>1258 rows × 7 columns</p>\n",
       "</div>"
      ],
      "text/plain": [
       "                  Open        High         Low       Close   Adj Close  \\\n",
       "Date                                                                     \n",
       "2019-01-02   20.406668   21.008667   19.920000   20.674667   20.674667   \n",
       "2019-01-03   20.466667   20.626667   19.825333   20.024000   20.024000   \n",
       "2019-01-04   20.400000   21.200001   20.181999   21.179333   21.179333   \n",
       "2019-01-07   21.448000   22.449333   21.183332   22.330667   22.330667   \n",
       "2019-01-08   22.797333   22.934000   21.801332   22.356667   22.356667   \n",
       "...                ...         ...         ...         ...         ...   \n",
       "2023-12-22  256.760010  258.220001  251.369995  252.539993  252.539993   \n",
       "2023-12-26  254.490005  257.970001  252.910004  256.609985  256.609985   \n",
       "2023-12-27  258.350006  263.339996  257.519989  261.440002  261.440002   \n",
       "2023-12-28  263.660004  265.130005  252.710007  253.179993  253.179993   \n",
       "2023-12-29  255.100006  255.190002  247.429993  248.479996  248.479996   \n",
       "\n",
       "                 Volume  Year  \n",
       "Date                           \n",
       "2019-01-02  174879000.0  2019  \n",
       "2019-01-03  104478000.0  2019  \n",
       "2019-01-04  110911500.0  2019  \n",
       "2019-01-07  113268000.0  2019  \n",
       "2019-01-08  105127500.0  2019  \n",
       "...                 ...   ...  \n",
       "2023-12-22   93249800.0  2023  \n",
       "2023-12-26   86892400.0  2023  \n",
       "2023-12-27  106494400.0  2023  \n",
       "2023-12-28  113619900.0  2023  \n",
       "2023-12-29  100615300.0  2023  \n",
       "\n",
       "[1258 rows x 7 columns]"
      ]
     },
     "execution_count": 62,
     "metadata": {},
     "output_type": "execute_result"
    }
   ],
   "source": [
    "df['Date'] = pd.to_datetime(df['Date'])\n",
    "#Year added now for later Key Dates operations\n",
    "df['Year'] = df['Date'].dt.year\n",
    "df = df.set_index('Date').sort_index().drop_duplicates()\n",
    "df"
   ]
  },
  {
   "cell_type": "markdown",
   "id": "feffefde-8f5e-41bd-85ff-300ccf044f81",
   "metadata": {},
   "source": [
    "### Daily Returns:"
   ]
  },
  {
   "cell_type": "code",
   "execution_count": 63,
   "id": "8688f950-ecb0-410d-8215-e56cd24ea4a1",
   "metadata": {},
   "outputs": [
    {
     "data": {
      "text/plain": [
       "Date\n",
       "2019-01-02         NaN\n",
       "2019-01-03   -0.031472\n",
       "2019-01-04    0.057697\n",
       "2019-01-07    0.054361\n",
       "2019-01-08    0.001164\n",
       "                ...   \n",
       "2023-12-22   -0.007701\n",
       "2023-12-26    0.016116\n",
       "2023-12-27    0.018822\n",
       "2023-12-28   -0.031594\n",
       "2023-12-29   -0.018564\n",
       "Name: Adj Close, Length: 1258, dtype: float64"
      ]
     },
     "execution_count": 63,
     "metadata": {},
     "output_type": "execute_result"
    }
   ],
   "source": [
    "returns = df['Daily Return'] = df['Adj Close'].pct_change()\n",
    "returns"
   ]
  },
  {
   "cell_type": "markdown",
   "id": "fea5ce33-2681-4dbc-9bf4-a06821b8fc2f",
   "metadata": {},
   "source": [
    "### Log Returns:"
   ]
  },
  {
   "cell_type": "code",
   "execution_count": 64,
   "id": "a190ff1e-18d3-4677-836c-4314ad1dc046",
   "metadata": {},
   "outputs": [
    {
     "data": {
      "text/plain": [
       "Date\n",
       "2019-01-02         NaN\n",
       "2019-01-03   -0.031978\n",
       "2019-01-04    0.056094\n",
       "2019-01-07    0.052935\n",
       "2019-01-08    0.001164\n",
       "                ...   \n",
       "2023-12-22   -0.007731\n",
       "2023-12-26    0.015988\n",
       "2023-12-27    0.018647\n",
       "2023-12-28   -0.032104\n",
       "2023-12-29   -0.018738\n",
       "Length: 1258, dtype: float64"
      ]
     },
     "execution_count": 64,
     "metadata": {},
     "output_type": "execute_result"
    }
   ],
   "source": [
    "#\"Prev Close\" column created to enable log return calculation\n",
    "df['Prev Close'] = df['Adj Close'].shift(1)\n",
    "log_returns = np.log(df['Adj Close'] / df['Prev Close'])\n",
    "log_returns"
   ]
  },
  {
   "cell_type": "markdown",
   "id": "534aa5d3-d6f7-4db4-8995-1923975305ca",
   "metadata": {},
   "source": [
    "### Surges\n",
    "\n",
    "#### 1. We define mean return\n",
    "\n",
    "#### 2. We define the surge threshold as 4 standard deviations above the mean\n",
    "\n",
    "#### 3. We define the surge condition\n",
    "\n",
    "#### 4. We subset the dataframe where daily returns are higher than the surge threshold"
   ]
  },
  {
   "cell_type": "code",
   "execution_count": 65,
   "id": "0281f8c2-6c46-4fd2-b76e-2658c4724f90",
   "metadata": {
    "scrolled": true
   },
   "outputs": [
    {
     "data": {
      "text/html": [
       "<div>\n",
       "<style scoped>\n",
       "    .dataframe tbody tr th:only-of-type {\n",
       "        vertical-align: middle;\n",
       "    }\n",
       "\n",
       "    .dataframe tbody tr th {\n",
       "        vertical-align: top;\n",
       "    }\n",
       "\n",
       "    .dataframe thead th {\n",
       "        text-align: right;\n",
       "    }\n",
       "</style>\n",
       "<table border=\"1\" class=\"dataframe\">\n",
       "  <thead>\n",
       "    <tr style=\"text-align: right;\">\n",
       "      <th></th>\n",
       "      <th>Open</th>\n",
       "      <th>High</th>\n",
       "      <th>Low</th>\n",
       "      <th>Close</th>\n",
       "      <th>Adj Close</th>\n",
       "      <th>Volume</th>\n",
       "      <th>Year</th>\n",
       "      <th>Daily Return</th>\n",
       "      <th>Prev Close</th>\n",
       "    </tr>\n",
       "    <tr>\n",
       "      <th>Date</th>\n",
       "      <th></th>\n",
       "      <th></th>\n",
       "      <th></th>\n",
       "      <th></th>\n",
       "      <th></th>\n",
       "      <th></th>\n",
       "      <th></th>\n",
       "      <th></th>\n",
       "      <th></th>\n",
       "    </tr>\n",
       "  </thead>\n",
       "  <tbody>\n",
       "    <tr>\n",
       "      <th>2019-10-24</th>\n",
       "      <td>19.891333</td>\n",
       "      <td>20.328667</td>\n",
       "      <td>19.280001</td>\n",
       "      <td>19.978666</td>\n",
       "      <td>19.978666</td>\n",
       "      <td>445813500.0</td>\n",
       "      <td>2019</td>\n",
       "      <td>0.176692</td>\n",
       "      <td>16.978666</td>\n",
       "    </tr>\n",
       "    <tr>\n",
       "      <th>2020-02-03</th>\n",
       "      <td>44.912666</td>\n",
       "      <td>52.409332</td>\n",
       "      <td>44.901333</td>\n",
       "      <td>52.000000</td>\n",
       "      <td>52.000000</td>\n",
       "      <td>705975000.0</td>\n",
       "      <td>2020</td>\n",
       "      <td>0.198949</td>\n",
       "      <td>43.371334</td>\n",
       "    </tr>\n",
       "    <tr>\n",
       "      <th>2020-03-19</th>\n",
       "      <td>24.980000</td>\n",
       "      <td>30.133333</td>\n",
       "      <td>23.897333</td>\n",
       "      <td>28.509333</td>\n",
       "      <td>28.509333</td>\n",
       "      <td>452932500.0</td>\n",
       "      <td>2020</td>\n",
       "      <td>0.183877</td>\n",
       "      <td>24.081333</td>\n",
       "    </tr>\n",
       "    <tr>\n",
       "      <th>2021-03-09</th>\n",
       "      <td>202.726669</td>\n",
       "      <td>226.029999</td>\n",
       "      <td>198.403336</td>\n",
       "      <td>224.526672</td>\n",
       "      <td>224.526672</td>\n",
       "      <td>202569900.0</td>\n",
       "      <td>2021</td>\n",
       "      <td>0.196412</td>\n",
       "      <td>187.666672</td>\n",
       "    </tr>\n",
       "  </tbody>\n",
       "</table>\n",
       "</div>"
      ],
      "text/plain": [
       "                  Open        High         Low       Close   Adj Close  \\\n",
       "Date                                                                     \n",
       "2019-10-24   19.891333   20.328667   19.280001   19.978666   19.978666   \n",
       "2020-02-03   44.912666   52.409332   44.901333   52.000000   52.000000   \n",
       "2020-03-19   24.980000   30.133333   23.897333   28.509333   28.509333   \n",
       "2021-03-09  202.726669  226.029999  198.403336  224.526672  224.526672   \n",
       "\n",
       "                 Volume  Year  Daily Return  Prev Close  \n",
       "Date                                                     \n",
       "2019-10-24  445813500.0  2019      0.176692   16.978666  \n",
       "2020-02-03  705975000.0  2020      0.198949   43.371334  \n",
       "2020-03-19  452932500.0  2020      0.183877   24.081333  \n",
       "2021-03-09  202569900.0  2021      0.196412  187.666672  "
      ]
     },
     "execution_count": 65,
     "metadata": {},
     "output_type": "execute_result"
    }
   ],
   "source": [
    "mean_return = df['Daily Return'].mean()\n",
    "\n",
    "return_threshold = mean_return + (df['Daily Return'].std() * 4)\n",
    "\n",
    "condition = df['Daily Return'] > return_threshold\n",
    "\n",
    "df[condition]"
   ]
  },
  {
   "cell_type": "markdown",
   "id": "ac9e3050-63df-4a1b-9b5c-c388a2228a7e",
   "metadata": {},
   "source": [
    "### Volume Spike\n",
    "\n",
    "#### 1. We find the mean volume\n",
    "\n",
    "#### 2. We define the spike threshold as 6 standard deviations above the mean\n",
    "\n",
    "#### 3. We define the spike condition\n",
    "\n",
    "#### 4. We subset the dataframe where volumes are higher than the spike threshold"
   ]
  },
  {
   "cell_type": "code",
   "execution_count": 66,
   "id": "59a1f0e5-a606-4b14-aa37-9cf7b712470b",
   "metadata": {},
   "outputs": [
    {
     "data": {
      "text/html": [
       "<div>\n",
       "<style scoped>\n",
       "    .dataframe tbody tr th:only-of-type {\n",
       "        vertical-align: middle;\n",
       "    }\n",
       "\n",
       "    .dataframe tbody tr th {\n",
       "        vertical-align: top;\n",
       "    }\n",
       "\n",
       "    .dataframe thead th {\n",
       "        text-align: right;\n",
       "    }\n",
       "</style>\n",
       "<table border=\"1\" class=\"dataframe\">\n",
       "  <thead>\n",
       "    <tr style=\"text-align: right;\">\n",
       "      <th></th>\n",
       "      <th>Open</th>\n",
       "      <th>High</th>\n",
       "      <th>Low</th>\n",
       "      <th>Close</th>\n",
       "      <th>Adj Close</th>\n",
       "      <th>Volume</th>\n",
       "      <th>Year</th>\n",
       "      <th>Daily Return</th>\n",
       "      <th>Prev Close</th>\n",
       "    </tr>\n",
       "    <tr>\n",
       "      <th>Date</th>\n",
       "      <th></th>\n",
       "      <th></th>\n",
       "      <th></th>\n",
       "      <th></th>\n",
       "      <th></th>\n",
       "      <th></th>\n",
       "      <th></th>\n",
       "      <th></th>\n",
       "      <th></th>\n",
       "    </tr>\n",
       "  </thead>\n",
       "  <tbody>\n",
       "    <tr>\n",
       "      <th>2020-02-03</th>\n",
       "      <td>44.912666</td>\n",
       "      <td>52.409332</td>\n",
       "      <td>44.901333</td>\n",
       "      <td>52.000000</td>\n",
       "      <td>52.000000</td>\n",
       "      <td>705975000.0</td>\n",
       "      <td>2020</td>\n",
       "      <td>0.198949</td>\n",
       "      <td>43.371334</td>\n",
       "    </tr>\n",
       "    <tr>\n",
       "      <th>2020-02-04</th>\n",
       "      <td>58.863998</td>\n",
       "      <td>64.599335</td>\n",
       "      <td>55.591999</td>\n",
       "      <td>59.137333</td>\n",
       "      <td>59.137333</td>\n",
       "      <td>914082000.0</td>\n",
       "      <td>2020</td>\n",
       "      <td>0.137256</td>\n",
       "      <td>52.000000</td>\n",
       "    </tr>\n",
       "    <tr>\n",
       "      <th>2020-02-05</th>\n",
       "      <td>54.883999</td>\n",
       "      <td>56.398666</td>\n",
       "      <td>46.940666</td>\n",
       "      <td>48.980000</td>\n",
       "      <td>48.980000</td>\n",
       "      <td>726357000.0</td>\n",
       "      <td>2020</td>\n",
       "      <td>-0.171758</td>\n",
       "      <td>59.137333</td>\n",
       "    </tr>\n",
       "    <tr>\n",
       "      <th>2020-12-18</th>\n",
       "      <td>222.966660</td>\n",
       "      <td>231.666672</td>\n",
       "      <td>209.513336</td>\n",
       "      <td>231.666672</td>\n",
       "      <td>231.666672</td>\n",
       "      <td>666378600.0</td>\n",
       "      <td>2020</td>\n",
       "      <td>0.059613</td>\n",
       "      <td>218.633331</td>\n",
       "    </tr>\n",
       "  </tbody>\n",
       "</table>\n",
       "</div>"
      ],
      "text/plain": [
       "                  Open        High         Low       Close   Adj Close  \\\n",
       "Date                                                                     \n",
       "2020-02-03   44.912666   52.409332   44.901333   52.000000   52.000000   \n",
       "2020-02-04   58.863998   64.599335   55.591999   59.137333   59.137333   \n",
       "2020-02-05   54.883999   56.398666   46.940666   48.980000   48.980000   \n",
       "2020-12-18  222.966660  231.666672  209.513336  231.666672  231.666672   \n",
       "\n",
       "                 Volume  Year  Daily Return  Prev Close  \n",
       "Date                                                     \n",
       "2020-02-03  705975000.0  2020      0.198949   43.371334  \n",
       "2020-02-04  914082000.0  2020      0.137256   52.000000  \n",
       "2020-02-05  726357000.0  2020     -0.171758   59.137333  \n",
       "2020-12-18  666378600.0  2020      0.059613  218.633331  "
      ]
     },
     "execution_count": 66,
     "metadata": {},
     "output_type": "execute_result"
    }
   ],
   "source": [
    "mean_volume = df['Volume'].mean()\n",
    "\n",
    "return_threshold = mean_volume + (df['Volume'].std() * 6)\n",
    "\n",
    "condition = df['Volume'] > return_threshold\n",
    "\n",
    "df[condition]"
   ]
  },
  {
   "cell_type": "markdown",
   "id": "be396e69-ffdc-4f86-b47a-2d740647457f",
   "metadata": {},
   "source": [
    "### Simple Moving Average"
   ]
  },
  {
   "cell_type": "code",
   "execution_count": 67,
   "id": "a993fb50-2fc4-4555-b2d6-f90f76c13dfb",
   "metadata": {
    "scrolled": true
   },
   "outputs": [
    {
     "data": {
      "text/html": [
       "<div>\n",
       "<style scoped>\n",
       "    .dataframe tbody tr th:only-of-type {\n",
       "        vertical-align: middle;\n",
       "    }\n",
       "\n",
       "    .dataframe tbody tr th {\n",
       "        vertical-align: top;\n",
       "    }\n",
       "\n",
       "    .dataframe thead th {\n",
       "        text-align: right;\n",
       "    }\n",
       "</style>\n",
       "<table border=\"1\" class=\"dataframe\">\n",
       "  <thead>\n",
       "    <tr style=\"text-align: right;\">\n",
       "      <th></th>\n",
       "      <th>Open</th>\n",
       "      <th>High</th>\n",
       "      <th>Low</th>\n",
       "      <th>Close</th>\n",
       "      <th>Adj Close</th>\n",
       "      <th>Volume</th>\n",
       "      <th>Year</th>\n",
       "      <th>Daily Return</th>\n",
       "      <th>Prev Close</th>\n",
       "      <th>20-day MA</th>\n",
       "    </tr>\n",
       "    <tr>\n",
       "      <th>Date</th>\n",
       "      <th></th>\n",
       "      <th></th>\n",
       "      <th></th>\n",
       "      <th></th>\n",
       "      <th></th>\n",
       "      <th></th>\n",
       "      <th></th>\n",
       "      <th></th>\n",
       "      <th></th>\n",
       "      <th></th>\n",
       "    </tr>\n",
       "  </thead>\n",
       "  <tbody>\n",
       "    <tr>\n",
       "      <th>2019-01-02</th>\n",
       "      <td>20.406668</td>\n",
       "      <td>21.008667</td>\n",
       "      <td>19.920000</td>\n",
       "      <td>20.674667</td>\n",
       "      <td>20.674667</td>\n",
       "      <td>174879000.0</td>\n",
       "      <td>2019</td>\n",
       "      <td>NaN</td>\n",
       "      <td>NaN</td>\n",
       "      <td>NaN</td>\n",
       "    </tr>\n",
       "    <tr>\n",
       "      <th>2019-01-03</th>\n",
       "      <td>20.466667</td>\n",
       "      <td>20.626667</td>\n",
       "      <td>19.825333</td>\n",
       "      <td>20.024000</td>\n",
       "      <td>20.024000</td>\n",
       "      <td>104478000.0</td>\n",
       "      <td>2019</td>\n",
       "      <td>-0.031472</td>\n",
       "      <td>20.674667</td>\n",
       "      <td>NaN</td>\n",
       "    </tr>\n",
       "    <tr>\n",
       "      <th>2019-01-04</th>\n",
       "      <td>20.400000</td>\n",
       "      <td>21.200001</td>\n",
       "      <td>20.181999</td>\n",
       "      <td>21.179333</td>\n",
       "      <td>21.179333</td>\n",
       "      <td>110911500.0</td>\n",
       "      <td>2019</td>\n",
       "      <td>0.057697</td>\n",
       "      <td>20.024000</td>\n",
       "      <td>NaN</td>\n",
       "    </tr>\n",
       "    <tr>\n",
       "      <th>2019-01-07</th>\n",
       "      <td>21.448000</td>\n",
       "      <td>22.449333</td>\n",
       "      <td>21.183332</td>\n",
       "      <td>22.330667</td>\n",
       "      <td>22.330667</td>\n",
       "      <td>113268000.0</td>\n",
       "      <td>2019</td>\n",
       "      <td>0.054361</td>\n",
       "      <td>21.179333</td>\n",
       "      <td>NaN</td>\n",
       "    </tr>\n",
       "    <tr>\n",
       "      <th>2019-01-08</th>\n",
       "      <td>22.797333</td>\n",
       "      <td>22.934000</td>\n",
       "      <td>21.801332</td>\n",
       "      <td>22.356667</td>\n",
       "      <td>22.356667</td>\n",
       "      <td>105127500.0</td>\n",
       "      <td>2019</td>\n",
       "      <td>0.001164</td>\n",
       "      <td>22.330667</td>\n",
       "      <td>NaN</td>\n",
       "    </tr>\n",
       "    <tr>\n",
       "      <th>...</th>\n",
       "      <td>...</td>\n",
       "      <td>...</td>\n",
       "      <td>...</td>\n",
       "      <td>...</td>\n",
       "      <td>...</td>\n",
       "      <td>...</td>\n",
       "      <td>...</td>\n",
       "      <td>...</td>\n",
       "      <td>...</td>\n",
       "      <td>...</td>\n",
       "    </tr>\n",
       "    <tr>\n",
       "      <th>2023-12-22</th>\n",
       "      <td>256.760010</td>\n",
       "      <td>258.220001</td>\n",
       "      <td>251.369995</td>\n",
       "      <td>252.539993</td>\n",
       "      <td>252.539993</td>\n",
       "      <td>93249800.0</td>\n",
       "      <td>2023</td>\n",
       "      <td>-0.007701</td>\n",
       "      <td>254.500000</td>\n",
       "      <td>244.503500</td>\n",
       "    </tr>\n",
       "    <tr>\n",
       "      <th>2023-12-26</th>\n",
       "      <td>254.490005</td>\n",
       "      <td>257.970001</td>\n",
       "      <td>252.910004</td>\n",
       "      <td>256.609985</td>\n",
       "      <td>256.609985</td>\n",
       "      <td>86892400.0</td>\n",
       "      <td>2023</td>\n",
       "      <td>0.016116</td>\n",
       "      <td>252.539993</td>\n",
       "      <td>245.529999</td>\n",
       "    </tr>\n",
       "    <tr>\n",
       "      <th>2023-12-27</th>\n",
       "      <td>258.350006</td>\n",
       "      <td>263.339996</td>\n",
       "      <td>257.519989</td>\n",
       "      <td>261.440002</td>\n",
       "      <td>261.440002</td>\n",
       "      <td>106494400.0</td>\n",
       "      <td>2023</td>\n",
       "      <td>0.018822</td>\n",
       "      <td>256.609985</td>\n",
       "      <td>246.265999</td>\n",
       "    </tr>\n",
       "    <tr>\n",
       "      <th>2023-12-28</th>\n",
       "      <td>263.660004</td>\n",
       "      <td>265.130005</td>\n",
       "      <td>252.710007</td>\n",
       "      <td>253.179993</td>\n",
       "      <td>253.179993</td>\n",
       "      <td>113619900.0</td>\n",
       "      <td>2023</td>\n",
       "      <td>-0.031594</td>\n",
       "      <td>261.440002</td>\n",
       "      <td>246.717999</td>\n",
       "    </tr>\n",
       "    <tr>\n",
       "      <th>2023-12-29</th>\n",
       "      <td>255.100006</td>\n",
       "      <td>255.190002</td>\n",
       "      <td>247.429993</td>\n",
       "      <td>248.479996</td>\n",
       "      <td>248.479996</td>\n",
       "      <td>100615300.0</td>\n",
       "      <td>2023</td>\n",
       "      <td>-0.018564</td>\n",
       "      <td>253.179993</td>\n",
       "      <td>247.137998</td>\n",
       "    </tr>\n",
       "  </tbody>\n",
       "</table>\n",
       "<p>1258 rows × 10 columns</p>\n",
       "</div>"
      ],
      "text/plain": [
       "                  Open        High         Low       Close   Adj Close  \\\n",
       "Date                                                                     \n",
       "2019-01-02   20.406668   21.008667   19.920000   20.674667   20.674667   \n",
       "2019-01-03   20.466667   20.626667   19.825333   20.024000   20.024000   \n",
       "2019-01-04   20.400000   21.200001   20.181999   21.179333   21.179333   \n",
       "2019-01-07   21.448000   22.449333   21.183332   22.330667   22.330667   \n",
       "2019-01-08   22.797333   22.934000   21.801332   22.356667   22.356667   \n",
       "...                ...         ...         ...         ...         ...   \n",
       "2023-12-22  256.760010  258.220001  251.369995  252.539993  252.539993   \n",
       "2023-12-26  254.490005  257.970001  252.910004  256.609985  256.609985   \n",
       "2023-12-27  258.350006  263.339996  257.519989  261.440002  261.440002   \n",
       "2023-12-28  263.660004  265.130005  252.710007  253.179993  253.179993   \n",
       "2023-12-29  255.100006  255.190002  247.429993  248.479996  248.479996   \n",
       "\n",
       "                 Volume  Year  Daily Return  Prev Close   20-day MA  \n",
       "Date                                                                 \n",
       "2019-01-02  174879000.0  2019           NaN         NaN         NaN  \n",
       "2019-01-03  104478000.0  2019     -0.031472   20.674667         NaN  \n",
       "2019-01-04  110911500.0  2019      0.057697   20.024000         NaN  \n",
       "2019-01-07  113268000.0  2019      0.054361   21.179333         NaN  \n",
       "2019-01-08  105127500.0  2019      0.001164   22.330667         NaN  \n",
       "...                 ...   ...           ...         ...         ...  \n",
       "2023-12-22   93249800.0  2023     -0.007701  254.500000  244.503500  \n",
       "2023-12-26   86892400.0  2023      0.016116  252.539993  245.529999  \n",
       "2023-12-27  106494400.0  2023      0.018822  256.609985  246.265999  \n",
       "2023-12-28  113619900.0  2023     -0.031594  261.440002  246.717999  \n",
       "2023-12-29  100615300.0  2023     -0.018564  253.179993  247.137998  \n",
       "\n",
       "[1258 rows x 10 columns]"
      ]
     },
     "execution_count": 67,
     "metadata": {},
     "output_type": "execute_result"
    }
   ],
   "source": [
    "df['20-day MA'] = df['Adj Close'].rolling(window=20).mean()\n",
    "df"
   ]
  },
  {
   "cell_type": "markdown",
   "id": "1ca25dc7-f26d-478b-bdee-a15711552258",
   "metadata": {},
   "source": [
    "### 20-Day Standard Deviation [Volatility]"
   ]
  },
  {
   "cell_type": "code",
   "execution_count": 77,
   "id": "7c977198-7444-4138-9597-0a0cbf3c681a",
   "metadata": {},
   "outputs": [
    {
     "data": {
      "text/html": [
       "<div>\n",
       "<style scoped>\n",
       "    .dataframe tbody tr th:only-of-type {\n",
       "        vertical-align: middle;\n",
       "    }\n",
       "\n",
       "    .dataframe tbody tr th {\n",
       "        vertical-align: top;\n",
       "    }\n",
       "\n",
       "    .dataframe thead th {\n",
       "        text-align: right;\n",
       "    }\n",
       "</style>\n",
       "<table border=\"1\" class=\"dataframe\">\n",
       "  <thead>\n",
       "    <tr style=\"text-align: right;\">\n",
       "      <th></th>\n",
       "      <th>Open</th>\n",
       "      <th>High</th>\n",
       "      <th>Low</th>\n",
       "      <th>Close</th>\n",
       "      <th>Adj Close</th>\n",
       "      <th>Volume</th>\n",
       "      <th>Year</th>\n",
       "      <th>Daily Return</th>\n",
       "      <th>Prev Close</th>\n",
       "      <th>20-day MA</th>\n",
       "      <th>20-day SD</th>\n",
       "      <th>Bollinger High</th>\n",
       "      <th>Bollinger Low</th>\n",
       "    </tr>\n",
       "    <tr>\n",
       "      <th>Date</th>\n",
       "      <th></th>\n",
       "      <th></th>\n",
       "      <th></th>\n",
       "      <th></th>\n",
       "      <th></th>\n",
       "      <th></th>\n",
       "      <th></th>\n",
       "      <th></th>\n",
       "      <th></th>\n",
       "      <th></th>\n",
       "      <th></th>\n",
       "      <th></th>\n",
       "      <th></th>\n",
       "    </tr>\n",
       "  </thead>\n",
       "  <tbody>\n",
       "    <tr>\n",
       "      <th>2019-01-02</th>\n",
       "      <td>20.406668</td>\n",
       "      <td>21.008667</td>\n",
       "      <td>19.920000</td>\n",
       "      <td>20.674667</td>\n",
       "      <td>20.674667</td>\n",
       "      <td>174879000.0</td>\n",
       "      <td>2019</td>\n",
       "      <td>NaN</td>\n",
       "      <td>NaN</td>\n",
       "      <td>NaN</td>\n",
       "      <td>NaN</td>\n",
       "      <td>NaN</td>\n",
       "      <td>NaN</td>\n",
       "    </tr>\n",
       "    <tr>\n",
       "      <th>2019-01-03</th>\n",
       "      <td>20.466667</td>\n",
       "      <td>20.626667</td>\n",
       "      <td>19.825333</td>\n",
       "      <td>20.024000</td>\n",
       "      <td>20.024000</td>\n",
       "      <td>104478000.0</td>\n",
       "      <td>2019</td>\n",
       "      <td>-0.031472</td>\n",
       "      <td>20.674667</td>\n",
       "      <td>NaN</td>\n",
       "      <td>NaN</td>\n",
       "      <td>NaN</td>\n",
       "      <td>NaN</td>\n",
       "    </tr>\n",
       "    <tr>\n",
       "      <th>2019-01-04</th>\n",
       "      <td>20.400000</td>\n",
       "      <td>21.200001</td>\n",
       "      <td>20.181999</td>\n",
       "      <td>21.179333</td>\n",
       "      <td>21.179333</td>\n",
       "      <td>110911500.0</td>\n",
       "      <td>2019</td>\n",
       "      <td>0.057697</td>\n",
       "      <td>20.024000</td>\n",
       "      <td>NaN</td>\n",
       "      <td>NaN</td>\n",
       "      <td>NaN</td>\n",
       "      <td>NaN</td>\n",
       "    </tr>\n",
       "    <tr>\n",
       "      <th>2019-01-07</th>\n",
       "      <td>21.448000</td>\n",
       "      <td>22.449333</td>\n",
       "      <td>21.183332</td>\n",
       "      <td>22.330667</td>\n",
       "      <td>22.330667</td>\n",
       "      <td>113268000.0</td>\n",
       "      <td>2019</td>\n",
       "      <td>0.054361</td>\n",
       "      <td>21.179333</td>\n",
       "      <td>NaN</td>\n",
       "      <td>NaN</td>\n",
       "      <td>NaN</td>\n",
       "      <td>NaN</td>\n",
       "    </tr>\n",
       "    <tr>\n",
       "      <th>2019-01-08</th>\n",
       "      <td>22.797333</td>\n",
       "      <td>22.934000</td>\n",
       "      <td>21.801332</td>\n",
       "      <td>22.356667</td>\n",
       "      <td>22.356667</td>\n",
       "      <td>105127500.0</td>\n",
       "      <td>2019</td>\n",
       "      <td>0.001164</td>\n",
       "      <td>22.330667</td>\n",
       "      <td>NaN</td>\n",
       "      <td>NaN</td>\n",
       "      <td>NaN</td>\n",
       "      <td>NaN</td>\n",
       "    </tr>\n",
       "    <tr>\n",
       "      <th>...</th>\n",
       "      <td>...</td>\n",
       "      <td>...</td>\n",
       "      <td>...</td>\n",
       "      <td>...</td>\n",
       "      <td>...</td>\n",
       "      <td>...</td>\n",
       "      <td>...</td>\n",
       "      <td>...</td>\n",
       "      <td>...</td>\n",
       "      <td>...</td>\n",
       "      <td>...</td>\n",
       "      <td>...</td>\n",
       "      <td>...</td>\n",
       "    </tr>\n",
       "    <tr>\n",
       "      <th>2023-12-22</th>\n",
       "      <td>256.760010</td>\n",
       "      <td>258.220001</td>\n",
       "      <td>251.369995</td>\n",
       "      <td>252.539993</td>\n",
       "      <td>252.539993</td>\n",
       "      <td>93249800.0</td>\n",
       "      <td>2023</td>\n",
       "      <td>-0.007701</td>\n",
       "      <td>254.500000</td>\n",
       "      <td>244.503500</td>\n",
       "      <td>6.849882</td>\n",
       "      <td>244.546296</td>\n",
       "      <td>244.460703</td>\n",
       "    </tr>\n",
       "    <tr>\n",
       "      <th>2023-12-26</th>\n",
       "      <td>254.490005</td>\n",
       "      <td>257.970001</td>\n",
       "      <td>252.910004</td>\n",
       "      <td>256.609985</td>\n",
       "      <td>256.609985</td>\n",
       "      <td>86892400.0</td>\n",
       "      <td>2023</td>\n",
       "      <td>0.016116</td>\n",
       "      <td>252.539993</td>\n",
       "      <td>245.529999</td>\n",
       "      <td>7.056294</td>\n",
       "      <td>245.573146</td>\n",
       "      <td>245.486851</td>\n",
       "    </tr>\n",
       "    <tr>\n",
       "      <th>2023-12-27</th>\n",
       "      <td>258.350006</td>\n",
       "      <td>263.339996</td>\n",
       "      <td>257.519989</td>\n",
       "      <td>261.440002</td>\n",
       "      <td>261.440002</td>\n",
       "      <td>106494400.0</td>\n",
       "      <td>2023</td>\n",
       "      <td>0.018822</td>\n",
       "      <td>256.609985</td>\n",
       "      <td>246.265999</td>\n",
       "      <td>7.903738</td>\n",
       "      <td>246.305369</td>\n",
       "      <td>246.226629</td>\n",
       "    </tr>\n",
       "    <tr>\n",
       "      <th>2023-12-28</th>\n",
       "      <td>263.660004</td>\n",
       "      <td>265.130005</td>\n",
       "      <td>252.710007</td>\n",
       "      <td>253.179993</td>\n",
       "      <td>253.179993</td>\n",
       "      <td>113619900.0</td>\n",
       "      <td>2023</td>\n",
       "      <td>-0.031594</td>\n",
       "      <td>261.440002</td>\n",
       "      <td>246.717999</td>\n",
       "      <td>8.033187</td>\n",
       "      <td>246.759949</td>\n",
       "      <td>246.676048</td>\n",
       "    </tr>\n",
       "    <tr>\n",
       "      <th>2023-12-29</th>\n",
       "      <td>255.100006</td>\n",
       "      <td>255.190002</td>\n",
       "      <td>247.429993</td>\n",
       "      <td>248.479996</td>\n",
       "      <td>248.479996</td>\n",
       "      <td>100615300.0</td>\n",
       "      <td>2023</td>\n",
       "      <td>-0.018564</td>\n",
       "      <td>253.179993</td>\n",
       "      <td>247.137998</td>\n",
       "      <td>7.886109</td>\n",
       "      <td>247.180139</td>\n",
       "      <td>247.095858</td>\n",
       "    </tr>\n",
       "  </tbody>\n",
       "</table>\n",
       "<p>1258 rows × 13 columns</p>\n",
       "</div>"
      ],
      "text/plain": [
       "                  Open        High         Low       Close   Adj Close  \\\n",
       "Date                                                                     \n",
       "2019-01-02   20.406668   21.008667   19.920000   20.674667   20.674667   \n",
       "2019-01-03   20.466667   20.626667   19.825333   20.024000   20.024000   \n",
       "2019-01-04   20.400000   21.200001   20.181999   21.179333   21.179333   \n",
       "2019-01-07   21.448000   22.449333   21.183332   22.330667   22.330667   \n",
       "2019-01-08   22.797333   22.934000   21.801332   22.356667   22.356667   \n",
       "...                ...         ...         ...         ...         ...   \n",
       "2023-12-22  256.760010  258.220001  251.369995  252.539993  252.539993   \n",
       "2023-12-26  254.490005  257.970001  252.910004  256.609985  256.609985   \n",
       "2023-12-27  258.350006  263.339996  257.519989  261.440002  261.440002   \n",
       "2023-12-28  263.660004  265.130005  252.710007  253.179993  253.179993   \n",
       "2023-12-29  255.100006  255.190002  247.429993  248.479996  248.479996   \n",
       "\n",
       "                 Volume  Year  Daily Return  Prev Close   20-day MA  \\\n",
       "Date                                                                  \n",
       "2019-01-02  174879000.0  2019           NaN         NaN         NaN   \n",
       "2019-01-03  104478000.0  2019     -0.031472   20.674667         NaN   \n",
       "2019-01-04  110911500.0  2019      0.057697   20.024000         NaN   \n",
       "2019-01-07  113268000.0  2019      0.054361   21.179333         NaN   \n",
       "2019-01-08  105127500.0  2019      0.001164   22.330667         NaN   \n",
       "...                 ...   ...           ...         ...         ...   \n",
       "2023-12-22   93249800.0  2023     -0.007701  254.500000  244.503500   \n",
       "2023-12-26   86892400.0  2023      0.016116  252.539993  245.529999   \n",
       "2023-12-27  106494400.0  2023      0.018822  256.609985  246.265999   \n",
       "2023-12-28  113619900.0  2023     -0.031594  261.440002  246.717999   \n",
       "2023-12-29  100615300.0  2023     -0.018564  253.179993  247.137998   \n",
       "\n",
       "            20-day SD  Bollinger High  Bollinger Low  \n",
       "Date                                                  \n",
       "2019-01-02        NaN             NaN            NaN  \n",
       "2019-01-03        NaN             NaN            NaN  \n",
       "2019-01-04        NaN             NaN            NaN  \n",
       "2019-01-07        NaN             NaN            NaN  \n",
       "2019-01-08        NaN             NaN            NaN  \n",
       "...               ...             ...            ...  \n",
       "2023-12-22   6.849882      244.546296     244.460703  \n",
       "2023-12-26   7.056294      245.573146     245.486851  \n",
       "2023-12-27   7.903738      246.305369     246.226629  \n",
       "2023-12-28   8.033187      246.759949     246.676048  \n",
       "2023-12-29   7.886109      247.180139     247.095858  \n",
       "\n",
       "[1258 rows x 13 columns]"
      ]
     },
     "execution_count": 77,
     "metadata": {},
     "output_type": "execute_result"
    }
   ],
   "source": [
    "df['20-day SD'] = df['Adj Close'].rolling(window=20).std()\n",
    "df"
   ]
  },
  {
   "cell_type": "markdown",
   "id": "1a58cb7a-56b4-4098-b007-e89c2a49391b",
   "metadata": {},
   "source": [
    "### Bollinger Bands\n",
    "\n",
    "#### 1. We calculate the High and Low Bollinger Bands\n",
    "\n",
    "#### 2. Creating plot with added SMA line\n",
    "\n",
    "#### 3. We plot the High and Low Bollinger Bands\n",
    "\n",
    "#### 4. Display"
   ]
  },
  {
   "cell_type": "code",
   "execution_count": 79,
   "id": "9a877abe-5249-49eb-b962-d212c140116c",
   "metadata": {},
   "outputs": [
    {
     "data": {
      "image/png": "[encoded data removed]",
      "text/plain": [
       "<Figure size 1000x500 with 1 Axes>"
      ]
     },
     "metadata": {},
     "output_type": "display_data"
    }
   ],
   "source": [
    "df['Bollinger High'] = df['20-day MA'] + (2 * df['20-day SD'])\n",
    "df['Bollinger Low'] = df['20-day MA']  - (2 * df['20-day SD'])\n",
    "\n",
    "plt.figure(figsize=(10,5))\n",
    "plt.plot(df['Adj Close'], label='Adj Close')\n",
    "plt.plot(df[\"20-day MA\"], label=\"20-day SMA\")\n",
    "\n",
    "plt.plot(df['Bollinger High'], label='Bollinger High', linestyle='--', color='grey')\n",
    "plt.plot(df['Bollinger Low'], label='Bollinger Low', linestyle='--', color='grey')\n",
    "plt.fill_between(df.index, df['Bollinger High'], df['Bollinger Low'], color='grey', alpha=0.1)\n",
    "plt.title('Bollinger Bands')\n",
    "plt.xlabel('Date')\n",
    "plt.ylabel('Price')\n",
    "\n",
    "plt.legend()\n",
    "plt.show()"
   ]
  },
  {
   "cell_type": "markdown",
   "id": "92841b7d-b733-49a1-ac02-67b905f1f529",
   "metadata": {},
   "source": [
    "# Key Dates\n",
    "\n",
    "### Date of Highest Volatility Day by Year:"
   ]
  },
  {
   "cell_type": "code",
   "execution_count": 51,
   "id": "9fecd8cb-7557-4f33-ad5b-b18b9c725701",
   "metadata": {},
   "outputs": [
    {
     "data": {
      "text/html": [
       "<div>\n",
       "<style scoped>\n",
       "    .dataframe tbody tr th:only-of-type {\n",
       "        vertical-align: middle;\n",
       "    }\n",
       "\n",
       "    .dataframe tbody tr th {\n",
       "        vertical-align: top;\n",
       "    }\n",
       "\n",
       "    .dataframe thead th {\n",
       "        text-align: right;\n",
       "    }\n",
       "</style>\n",
       "<table border=\"1\" class=\"dataframe\">\n",
       "  <thead>\n",
       "    <tr style=\"text-align: right;\">\n",
       "      <th></th>\n",
       "      <th>Year</th>\n",
       "      <th>20-day SD</th>\n",
       "    </tr>\n",
       "    <tr>\n",
       "      <th>Date</th>\n",
       "      <th></th>\n",
       "      <th></th>\n",
       "    </tr>\n",
       "  </thead>\n",
       "  <tbody>\n",
       "    <tr>\n",
       "      <th>2019-10-29</th>\n",
       "      <td>2019</td>\n",
       "      <td>0.047500</td>\n",
       "    </tr>\n",
       "    <tr>\n",
       "      <th>2020-03-25</th>\n",
       "      <td>2020</td>\n",
       "      <td>0.100268</td>\n",
       "    </tr>\n",
       "    <tr>\n",
       "      <th>2021-03-19</th>\n",
       "      <td>2021</td>\n",
       "      <td>0.065815</td>\n",
       "    </tr>\n",
       "    <tr>\n",
       "      <th>2022-06-06</th>\n",
       "      <td>2022</td>\n",
       "      <td>0.057156</td>\n",
       "    </tr>\n",
       "    <tr>\n",
       "      <th>2023-01-23</th>\n",
       "      <td>2023</td>\n",
       "      <td>0.059497</td>\n",
       "    </tr>\n",
       "  </tbody>\n",
       "</table>\n",
       "</div>"
      ],
      "text/plain": [
       "            Year  20-day SD\n",
       "Date                       \n",
       "2019-10-29  2019   0.047500\n",
       "2020-03-25  2020   0.100268\n",
       "2021-03-19  2021   0.065815\n",
       "2022-06-06  2022   0.057156\n",
       "2023-01-23  2023   0.059497"
      ]
     },
     "execution_count": 51,
     "metadata": {},
     "output_type": "execute_result"
    }
   ],
   "source": [
    "highest_volatility_day = df.loc[df.groupby('Year')['20-day SD'].idxmax(), ['Year', '20-day SD']]\n",
    "highest_volatility_day"
   ]
  },
  {
   "cell_type": "markdown",
   "id": "b40f9a87-4efe-46c4-a620-7518273cbee8",
   "metadata": {},
   "source": [
    "### Date of Largest Price Surge by Year:"
   ]
  },
  {
   "cell_type": "code",
   "execution_count": 52,
   "id": "af569ed3-eb0a-460b-84a7-eb56bf29288f",
   "metadata": {},
   "outputs": [
    {
     "data": {
      "text/html": [
       "<div>\n",
       "<style scoped>\n",
       "    .dataframe tbody tr th:only-of-type {\n",
       "        vertical-align: middle;\n",
       "    }\n",
       "\n",
       "    .dataframe tbody tr th {\n",
       "        vertical-align: top;\n",
       "    }\n",
       "\n",
       "    .dataframe thead th {\n",
       "        text-align: right;\n",
       "    }\n",
       "</style>\n",
       "<table border=\"1\" class=\"dataframe\">\n",
       "  <thead>\n",
       "    <tr style=\"text-align: right;\">\n",
       "      <th></th>\n",
       "      <th>Year</th>\n",
       "      <th>Daily Return</th>\n",
       "    </tr>\n",
       "    <tr>\n",
       "      <th>Date</th>\n",
       "      <th></th>\n",
       "      <th></th>\n",
       "    </tr>\n",
       "  </thead>\n",
       "  <tbody>\n",
       "    <tr>\n",
       "      <th>2019-10-24</th>\n",
       "      <td>2019</td>\n",
       "      <td>0.176692</td>\n",
       "    </tr>\n",
       "    <tr>\n",
       "      <th>2020-02-03</th>\n",
       "      <td>2020</td>\n",
       "      <td>0.198949</td>\n",
       "    </tr>\n",
       "    <tr>\n",
       "      <th>2021-03-09</th>\n",
       "      <td>2021</td>\n",
       "      <td>0.196412</td>\n",
       "    </tr>\n",
       "    <tr>\n",
       "      <th>2022-01-03</th>\n",
       "      <td>2022</td>\n",
       "      <td>0.135317</td>\n",
       "    </tr>\n",
       "    <tr>\n",
       "      <th>2023-01-27</th>\n",
       "      <td>2023</td>\n",
       "      <td>0.110002</td>\n",
       "    </tr>\n",
       "  </tbody>\n",
       "</table>\n",
       "</div>"
      ],
      "text/plain": [
       "            Year  Daily Return\n",
       "Date                          \n",
       "2019-10-24  2019      0.176692\n",
       "2020-02-03  2020      0.198949\n",
       "2021-03-09  2021      0.196412\n",
       "2022-01-03  2022      0.135317\n",
       "2023-01-27  2023      0.110002"
      ]
     },
     "execution_count": 52,
     "metadata": {},
     "output_type": "execute_result"
    }
   ],
   "source": [
    "largest_price_surge_day = df.loc[df.groupby('Year')['Daily Return'].idxmax(), ['Year', 'Daily Return']]\n",
    "largest_price_surge_day "
   ]
  },
  {
   "cell_type": "markdown",
   "id": "17ac1e7c-e908-4776-98a0-ac6e723f76be",
   "metadata": {},
   "source": [
    "### Date of Largest Price Drop by Year:"
   ]
  },
  {
   "cell_type": "code",
   "execution_count": 53,
   "id": "647c88cd-25ca-48e8-803f-9285d940dc6d",
   "metadata": {},
   "outputs": [
    {
     "data": {
      "text/html": [
       "<div>\n",
       "<style scoped>\n",
       "    .dataframe tbody tr th:only-of-type {\n",
       "        vertical-align: middle;\n",
       "    }\n",
       "\n",
       "    .dataframe tbody tr th {\n",
       "        vertical-align: top;\n",
       "    }\n",
       "\n",
       "    .dataframe thead th {\n",
       "        text-align: right;\n",
       "    }\n",
       "</style>\n",
       "<table border=\"1\" class=\"dataframe\">\n",
       "  <thead>\n",
       "    <tr style=\"text-align: right;\">\n",
       "      <th></th>\n",
       "      <th>Year</th>\n",
       "      <th>Daily Return</th>\n",
       "    </tr>\n",
       "    <tr>\n",
       "      <th>Date</th>\n",
       "      <th></th>\n",
       "      <th></th>\n",
       "    </tr>\n",
       "  </thead>\n",
       "  <tbody>\n",
       "    <tr>\n",
       "      <th>2019-07-25</th>\n",
       "      <td>2019</td>\n",
       "      <td>-0.136137</td>\n",
       "    </tr>\n",
       "    <tr>\n",
       "      <th>2020-09-08</th>\n",
       "      <td>2020</td>\n",
       "      <td>-0.210628</td>\n",
       "    </tr>\n",
       "    <tr>\n",
       "      <th>2021-11-09</th>\n",
       "      <td>2021</td>\n",
       "      <td>-0.119903</td>\n",
       "    </tr>\n",
       "    <tr>\n",
       "      <th>2022-04-26</th>\n",
       "      <td>2022</td>\n",
       "      <td>-0.121841</td>\n",
       "    </tr>\n",
       "    <tr>\n",
       "      <th>2023-01-03</th>\n",
       "      <td>2023</td>\n",
       "      <td>-0.122422</td>\n",
       "    </tr>\n",
       "  </tbody>\n",
       "</table>\n",
       "</div>"
      ],
      "text/plain": [
       "            Year  Daily Return\n",
       "Date                          \n",
       "2019-07-25  2019     -0.136137\n",
       "2020-09-08  2020     -0.210628\n",
       "2021-11-09  2021     -0.119903\n",
       "2022-04-26  2022     -0.121841\n",
       "2023-01-03  2023     -0.122422"
      ]
     },
     "execution_count": 53,
     "metadata": {},
     "output_type": "execute_result"
    }
   ],
   "source": [
    "largest_price_drop_day = df.loc[df.groupby('Year')['Daily Return'].idxmin(), ['Year', 'Daily Return']]\n",
    "largest_price_drop_day "
   ]
  },
  {
   "cell_type": "markdown",
   "id": "d6edc8da-82b4-42ca-b355-1535fd5a241c",
   "metadata": {},
   "source": [
    "### Date of Highest Trading Volume by Year:"
   ]
  },
  {
   "cell_type": "code",
   "execution_count": 54,
   "id": "36596117-ab5c-4b57-ba25-8cea2f888bf8",
   "metadata": {},
   "outputs": [
    {
     "data": {
      "text/html": [
       "<div>\n",
       "<style scoped>\n",
       "    .dataframe tbody tr th:only-of-type {\n",
       "        vertical-align: middle;\n",
       "    }\n",
       "\n",
       "    .dataframe tbody tr th {\n",
       "        vertical-align: top;\n",
       "    }\n",
       "\n",
       "    .dataframe thead th {\n",
       "        text-align: right;\n",
       "    }\n",
       "</style>\n",
       "<table border=\"1\" class=\"dataframe\">\n",
       "  <thead>\n",
       "    <tr style=\"text-align: right;\">\n",
       "      <th></th>\n",
       "      <th>Year</th>\n",
       "      <th>Volume</th>\n",
       "    </tr>\n",
       "    <tr>\n",
       "      <th>Date</th>\n",
       "      <th></th>\n",
       "      <th></th>\n",
       "    </tr>\n",
       "  </thead>\n",
       "  <tbody>\n",
       "    <tr>\n",
       "      <th>2019-10-25</th>\n",
       "      <td>2019</td>\n",
       "      <td>450091500.0</td>\n",
       "    </tr>\n",
       "    <tr>\n",
       "      <th>2020-02-04</th>\n",
       "      <td>2020</td>\n",
       "      <td>914082000.0</td>\n",
       "    </tr>\n",
       "    <tr>\n",
       "      <th>2021-03-05</th>\n",
       "      <td>2021</td>\n",
       "      <td>268189500.0</td>\n",
       "    </tr>\n",
       "    <tr>\n",
       "      <th>2022-12-29</th>\n",
       "      <td>2022</td>\n",
       "      <td>221923300.0</td>\n",
       "    </tr>\n",
       "    <tr>\n",
       "      <th>2023-01-27</th>\n",
       "      <td>2023</td>\n",
       "      <td>306590600.0</td>\n",
       "    </tr>\n",
       "  </tbody>\n",
       "</table>\n",
       "</div>"
      ],
      "text/plain": [
       "            Year       Volume\n",
       "Date                         \n",
       "2019-10-25  2019  450091500.0\n",
       "2020-02-04  2020  914082000.0\n",
       "2021-03-05  2021  268189500.0\n",
       "2022-12-29  2022  221923300.0\n",
       "2023-01-27  2023  306590600.0"
      ]
     },
     "execution_count": 54,
     "metadata": {},
     "output_type": "execute_result"
    }
   ],
   "source": [
    "highest_volume_day = df.loc[df.groupby('Year')['Volume'].idxmax(), ['Year', 'Volume']]\n",
    "highest_volume_day "
   ]
  },
  {
   "cell_type": "markdown",
   "id": "df7cbe6d-3db0-4511-8d8b-560dad04dbda",
   "metadata": {},
   "source": [
    "### Date of Highest High by Year:"
   ]
  },
  {
   "cell_type": "code",
   "execution_count": 55,
   "id": "ac8a7f2d-5651-4fdd-8723-566128102f4b",
   "metadata": {},
   "outputs": [
    {
     "data": {
      "text/html": [
       "<div>\n",
       "<style scoped>\n",
       "    .dataframe tbody tr th:only-of-type {\n",
       "        vertical-align: middle;\n",
       "    }\n",
       "\n",
       "    .dataframe tbody tr th {\n",
       "        vertical-align: top;\n",
       "    }\n",
       "\n",
       "    .dataframe thead th {\n",
       "        text-align: right;\n",
       "    }\n",
       "</style>\n",
       "<table border=\"1\" class=\"dataframe\">\n",
       "  <thead>\n",
       "    <tr style=\"text-align: right;\">\n",
       "      <th></th>\n",
       "      <th>Year</th>\n",
       "      <th>High</th>\n",
       "    </tr>\n",
       "    <tr>\n",
       "      <th>Date</th>\n",
       "      <th></th>\n",
       "      <th></th>\n",
       "    </tr>\n",
       "  </thead>\n",
       "  <tbody>\n",
       "    <tr>\n",
       "      <th>2019-12-27</th>\n",
       "      <td>2019</td>\n",
       "      <td>29.020666</td>\n",
       "    </tr>\n",
       "    <tr>\n",
       "      <th>2020-12-31</th>\n",
       "      <td>2020</td>\n",
       "      <td>239.573334</td>\n",
       "    </tr>\n",
       "    <tr>\n",
       "      <th>2021-11-04</th>\n",
       "      <td>2021</td>\n",
       "      <td>414.496674</td>\n",
       "    </tr>\n",
       "    <tr>\n",
       "      <th>2022-01-04</th>\n",
       "      <td>2022</td>\n",
       "      <td>402.666656</td>\n",
       "    </tr>\n",
       "    <tr>\n",
       "      <th>2023-07-19</th>\n",
       "      <td>2023</td>\n",
       "      <td>299.290009</td>\n",
       "    </tr>\n",
       "  </tbody>\n",
       "</table>\n",
       "</div>"
      ],
      "text/plain": [
       "            Year        High\n",
       "Date                        \n",
       "2019-12-27  2019   29.020666\n",
       "2020-12-31  2020  239.573334\n",
       "2021-11-04  2021  414.496674\n",
       "2022-01-04  2022  402.666656\n",
       "2023-07-19  2023  299.290009"
      ]
     },
     "execution_count": 55,
     "metadata": {},
     "output_type": "execute_result"
    }
   ],
   "source": [
    "highest_high = df.loc[df.groupby('Year')['High'].idxmax(), ['Year', 'High']]\n",
    "highest_high"
   ]
  },
  {
   "cell_type": "markdown",
   "id": "50869927-1e26-4816-bfa0-f878e830cbb2",
   "metadata": {},
   "source": [
    "### Date of Lowest Low by Year:"
   ]
  },
  {
   "cell_type": "code",
   "execution_count": 56,
   "id": "c6497003-3347-4342-bd40-742f5229d445",
   "metadata": {},
   "outputs": [
    {
     "data": {
      "text/html": [
       "<div>\n",
       "<style scoped>\n",
       "    .dataframe tbody tr th:only-of-type {\n",
       "        vertical-align: middle;\n",
       "    }\n",
       "\n",
       "    .dataframe tbody tr th {\n",
       "        vertical-align: top;\n",
       "    }\n",
       "\n",
       "    .dataframe thead th {\n",
       "        text-align: right;\n",
       "    }\n",
       "</style>\n",
       "<table border=\"1\" class=\"dataframe\">\n",
       "  <thead>\n",
       "    <tr style=\"text-align: right;\">\n",
       "      <th></th>\n",
       "      <th>Year</th>\n",
       "      <th>Low</th>\n",
       "    </tr>\n",
       "    <tr>\n",
       "      <th>Date</th>\n",
       "      <th></th>\n",
       "      <th></th>\n",
       "    </tr>\n",
       "  </thead>\n",
       "  <tbody>\n",
       "    <tr>\n",
       "      <th>2019-06-03</th>\n",
       "      <td>2019</td>\n",
       "      <td>11.799333</td>\n",
       "    </tr>\n",
       "    <tr>\n",
       "      <th>2020-03-18</th>\n",
       "      <td>2020</td>\n",
       "      <td>23.367332</td>\n",
       "    </tr>\n",
       "    <tr>\n",
       "      <th>2021-03-05</th>\n",
       "      <td>2021</td>\n",
       "      <td>179.830002</td>\n",
       "    </tr>\n",
       "    <tr>\n",
       "      <th>2022-12-28</th>\n",
       "      <td>2022</td>\n",
       "      <td>108.239998</td>\n",
       "    </tr>\n",
       "    <tr>\n",
       "      <th>2023-01-06</th>\n",
       "      <td>2023</td>\n",
       "      <td>101.809998</td>\n",
       "    </tr>\n",
       "  </tbody>\n",
       "</table>\n",
       "</div>"
      ],
      "text/plain": [
       "            Year         Low\n",
       "Date                        \n",
       "2019-06-03  2019   11.799333\n",
       "2020-03-18  2020   23.367332\n",
       "2021-03-05  2021  179.830002\n",
       "2022-12-28  2022  108.239998\n",
       "2023-01-06  2023  101.809998"
      ]
     },
     "execution_count": 56,
     "metadata": {},
     "output_type": "execute_result"
    }
   ],
   "source": [
    "lowest_low = df.loc[df.groupby('Year')['Low'].idxmin(), ['Year', 'Low']]\n",
    "lowest_low"
   ]
  },
  {
   "cell_type": "markdown",
   "id": "fada9896-2817-49f4-bbe5-830cb90c2988",
   "metadata": {},
   "source": [
    "### Open and Close Values by Year:"
   ]
  },
  {
   "cell_type": "code",
   "execution_count": 57,
   "id": "8a7fdbe3-d283-457b-9642-5cc922ef69ce",
   "metadata": {},
   "outputs": [
    {
     "data": {
      "text/html": [
       "<div>\n",
       "<style scoped>\n",
       "    .dataframe tbody tr th:only-of-type {\n",
       "        vertical-align: middle;\n",
       "    }\n",
       "\n",
       "    .dataframe tbody tr th {\n",
       "        vertical-align: top;\n",
       "    }\n",
       "\n",
       "    .dataframe thead th {\n",
       "        text-align: right;\n",
       "    }\n",
       "</style>\n",
       "<table border=\"1\" class=\"dataframe\">\n",
       "  <thead>\n",
       "    <tr style=\"text-align: right;\">\n",
       "      <th></th>\n",
       "      <th>Open</th>\n",
       "      <th>Close</th>\n",
       "    </tr>\n",
       "    <tr>\n",
       "      <th>Year</th>\n",
       "      <th></th>\n",
       "      <th></th>\n",
       "    </tr>\n",
       "  </thead>\n",
       "  <tbody>\n",
       "    <tr>\n",
       "      <th>2019</th>\n",
       "      <td>20.406668</td>\n",
       "      <td>27.888666</td>\n",
       "    </tr>\n",
       "    <tr>\n",
       "      <th>2020</th>\n",
       "      <td>28.299999</td>\n",
       "      <td>235.223328</td>\n",
       "    </tr>\n",
       "    <tr>\n",
       "      <th>2021</th>\n",
       "      <td>239.820007</td>\n",
       "      <td>352.260010</td>\n",
       "    </tr>\n",
       "    <tr>\n",
       "      <th>2022</th>\n",
       "      <td>382.583344</td>\n",
       "      <td>123.180000</td>\n",
       "    </tr>\n",
       "    <tr>\n",
       "      <th>2023</th>\n",
       "      <td>118.470001</td>\n",
       "      <td>248.479996</td>\n",
       "    </tr>\n",
       "  </tbody>\n",
       "</table>\n",
       "</div>"
      ],
      "text/plain": [
       "            Open       Close\n",
       "Year                        \n",
       "2019   20.406668   27.888666\n",
       "2020   28.299999  235.223328\n",
       "2021  239.820007  352.260010\n",
       "2022  382.583344  123.180000\n",
       "2023  118.470001  248.479996"
      ]
     },
     "execution_count": 57,
     "metadata": {},
     "output_type": "execute_result"
    }
   ],
   "source": [
    "annual_open_close = df.groupby('Year').agg({'Open': 'first', 'Close': 'last'})\n",
    "annual_open_close"
   ]
  },
  {
   "cell_type": "markdown",
   "id": "f5d71de0-5146-44dc-8935-fe4833cc08ce",
   "metadata": {},
   "source": [
    "# Data Visualisation\n",
    "\n",
    "#### 1. Creating a main plot with Adj Close prices, Simple Moving Average, Bollinger Bands\n",
    "\n",
    "##### 1a. Adding subplots for Volume and Volatility \n",
    "\n",
    "#### 2. We plot the Adjusted Close Prices, SMA, Bollinger Bands on the main plot [top subplot]\n",
    "\n",
    "#### 3. We plot Volume on the second subplot\n",
    "\n",
    "#### 4. We plot Volatility on the third subplot\n",
    "\n",
    "#### 5. Display with key/legend\n"
   ]
  },
  {
   "cell_type": "code",
   "execution_count": 80,
   "id": "1ba8bf43-3e5f-4077-af6d-29be5109a7d8",
   "metadata": {},
   "outputs": [
    {
     "data": {
      "image/png": "[encoded data removed]",
      "text/plain": [
       "<Figure size 1000x500 with 3 Axes>"
      ]
     },
     "metadata": {},
     "output_type": "display_data"
    }
   ],
   "source": [
    "fig, (ax1, ax2, ax3) = plt.subplots(3,1, figsize=(10, 5), gridspec_kw={'height_ratios': [5, 2, 2]})\n",
    "fig.subplots_adjust(hspace=0.5)\n",
    "\n",
    "ax1.plot(df.index, df['Adj Close'], label='Adj Close')\n",
    "ax1.plot(df['20-day MA'], label= '20-day SMA')\n",
    "ax1.plot(df['Bollinger High'], label='Bollinger High', linestyle='--', color='grey')\n",
    "ax1.plot(df['Bollinger Low'], label='Bollinger Low', linestyle='--', color='grey')\n",
    "ax1.set_title('Adjusted Close Price and Volume')\n",
    "ax1.set_ylabel('Adjusted Close Price')\n",
    "ax1.fill_between(df.index, df['Bollinger High'], df['Bollinger Low'], color='grey', alpha=0.1)\n",
    "\n",
    "ax2.bar(df.index, df['Volume'], label='Volume', color='blue')\n",
    "ax2.set_ylabel('Volume')\n",
    "ax2.set_xlabel('Year')\n",
    "\n",
    "ax3.plot(df.index, df['20-day SD'], label='Adj Close Volatility', color='red')\n",
    "ax3.set_ylabel('Std. Dev.')\n",
    "ax3.set_xlabel('Year')\n",
    "\n",
    "ax1.legend()\n",
    "ax2.legend()\n",
    "ax3.legend()\n",
    "plt.show()"
   ]
  },
  {
   "cell_type": "markdown",
   "id": "aebcaa97-37ca-4ede-89fa-0312ced9bd4a",
   "metadata": {},
   "source": [
    "# Histogram of Log Returns:"
   ]
  },
  {
   "cell_type": "code",
   "execution_count": 59,
   "id": "7214935a-8851-46da-b320-6df565b6fe6d",
   "metadata": {},
   "outputs": [
    {
     "data": {
      "image/png": "[encoded data removed]",
      "text/plain": [
       "<Figure size 1000x500 with 1 Axes>"
      ]
     },
     "metadata": {},
     "output_type": "display_data"
    }
   ],
   "source": [
    "plt.figure(figsize=(10, 5))\n",
    "plt.hist(log_returns, bins=30)\n",
    "plt.title('Histogram of Log Returns')\n",
    "plt.ylabel('Frequency')\n",
    "plt.xlabel('Log Returns')\n",
    "plt.show()"
   ]
  },
  {
   "cell_type": "markdown",
   "id": "26f6110d-1183-44bb-a0bf-52658f67b056",
   "metadata": {},
   "source": [
    "# Scatterplot of Volume vs Daily Returns:\n",
    "\n",
    "\n"
   ]
  },
  {
   "cell_type": "code",
   "execution_count": 60,
   "id": "d7335c32-4eed-457b-a464-7d544763bbe9",
   "metadata": {},
   "outputs": [
    {
     "data": {
      "image/png": "[encoded data removed]",
      "text/plain": [
       "<Figure size 1000x700 with 1 Axes>"
      ]
     },
     "metadata": {},
     "output_type": "display_data"
    }
   ],
   "source": [
    "plt.figure(figsize=(10, 7))\n",
    "plt.scatter(returns, df['Volume'])\n",
    "plt.title('Volume vs Daily Returns')\n",
    "plt.ylabel('Trading Volume')\n",
    "plt.xlabel('Daily Returns')\n",
    "plt.show()"
   ]
  },
  {
   "cell_type": "markdown",
   "id": "0e215fb4",
   "metadata": {},
   "source": [
    "# Report and Recommendation \n",
    "\n",
    "\n",
    "Based on the analysis of Tesla's (TSLA) historical trading data from 2019 to 2023, it is evident that the stock has experienced periods of high volatility and significant price movements. The correlation between trading volume and price fluctuations suggests that market sentiment heavily influences Tesla's stock. Despite the volatility, the overall trend has been positive, with frequent instances of substantial gains. Therefore, a cautious yet optimistic approach is recommended for increasing the firm's stake in Tesla, considering the potential for growth while being mindful of the inherent risks.\n"
   ]
  },
  {
   "cell_type": "markdown",
   "id": "15e20e29-c242-4e48-957d-3d0203b00696",
   "metadata": {},
   "source": [
    "\n",
    "We believe that from 2019 to 2023, Tesla's stock has experienced significant volatility. 2020 was the year with the highest volatility, reaching 10.03%. In the same year, Tesla's stock rose 19.89% in a single day and fell -21.06% in a single day, indicating the wild volatility of its stock price. Investor interest was particularly strong in 2020, when the highest trading volume was recorded.\n",
    "\n",
    "Tesla's share price reached a high of 11.80 in 2019, demonstrating its huge growth potential in the coming years. From 2019 to 2021, Tesla stock experienced significant growth, but there was a pullback in 2022. Overall, while Tesla's stock has strong growth potential, it also comes with high volatility. Therefore, we believe that a prudent investment strategy should be adopted. It is possible to modestly increase the proportion of investment in Tesla, but should ensure that the portfolio is diversified to balance the risk.\n"
   ]
  },
  {
   "cell_type": "markdown",
   "id": "a59ce430-8380-4793-8e61-33838bb6df4c",
   "metadata": {},
   "source": [
    "\n",
    "Tesla's stock SMA is closely aligned with the closing price trend. And the price has repeatedly hit or broken through the Bollinger Bands which indicates high volatility. Considering Standard Deviation, volatility is relatively low until 2020. It soars in 2021 and reaches a higher degree in 2022. Most of the normal distribution of returns is very positive. Although there are fewer opportunities for extremely high returns, it is also difficult in that sense to lose money. The log returns distribution indicates that most daily returns are close to zero,  but there is potential for high gains. The presence of extreme values also highlights the risk of significant losses.\n",
    "As an investor, we recommend that the company consider the potential short-term volatility high risk, while at the same time bullish on Tesla's long-term growth prospects, so choose to increase holding the stock."
   ]
  },
  {
   "cell_type": "markdown",
   "id": "c93b9a14-2443-4822-a9bd-5e5270d87984",
   "metadata": {},
   "source": [
    "\n",
    "From the analysis we have conducted, it seems that Tesla is an ideal stock for investors with a high risk appetite who are willing to endure periods of high volatility in the expectation of substantial changes in stock price, which is often preferred by traders who seek to exploit volatility instead of directional trading. This would not have been a suitable stock for risk-averse investors looking to preserve capital, instead catering to risk-loving investors seeking quick capital accumulation in the recent past. Periods of massive stock price increase and high volatility in 2021-2022 coincide with the fiscal stimulus of the Covid-19 pandemic albeit with a slight lag, and stock prices have settled lower in recent years, likely coinciding with the end of Covid stimulus plus increased inflation and interest rates.\n",
    "\n",
    "Tesla stock generally mirrors the NASDAQ and is buffeted by macro market conditions, though has lagged behind substantially in 2024, raising questions regarding further large 2021-style increases in stock price for the foreseeable future, instead demonstrating some indications of settling to lower volatility as indicated by log returns and 20-day rolling sigma. We would recommend a risk-neutral firm to cautiously increase TSLA positions, the value of which will likely increase to follow the NASDAQ, being wary that while volatility seems to be settling it remains high and TSLA hence entails greater tail risk, though this high volatility may be a desirable factor for risk-loving firms trading on volatility.\n"
   ]
  }
 ],
 "metadata": {
  "kernelspec": {
   "display_name": "Python 3 (ipykernel)",
   "language": "python",
   "name": "python3"
  },
  "language_info": {
   "codemirror_mode": {
    "name": "ipython",
    "version": 3
   },
   "file_extension": ".py",
   "mimetype": "text/x-python",
   "name": "python",
   "nbconvert_exporter": "python",
   "pygments_lexer": "ipython3",
   "version": "3.11.5"
  }
 },
 "nbformat": 4,
 "nbformat_minor": 5
}
